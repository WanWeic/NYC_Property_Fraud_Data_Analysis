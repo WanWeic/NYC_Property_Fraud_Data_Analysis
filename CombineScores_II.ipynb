{
 "cells": [
  {
   "cell_type": "markdown",
   "metadata": {},
   "source": [
    "# Combining Heuristic and AutoEncoder Scores"
   ]
  },
  {
   "cell_type": "code",
   "execution_count": 1,
   "metadata": {
    "ExecuteTime": {
     "end_time": "2019-02-21T07:34:57.562216Z",
     "start_time": "2019-02-21T07:34:23.904634Z"
    }
   },
   "outputs": [],
   "source": [
    "import pandas as pd\n",
    "import numpy as np\n",
    "import seaborn as sns\n",
    "import matplotlib.pyplot as plt"
   ]
  },
  {
   "cell_type": "code",
   "execution_count": 2,
   "metadata": {
    "ExecuteTime": {
     "end_time": "2019-02-21T07:35:00.591736Z",
     "start_time": "2019-02-21T07:34:57.564209Z"
    }
   },
   "outputs": [
    {
     "data": {
      "text/html": [
       "<div>\n",
       "<style scoped>\n",
       "    .dataframe tbody tr th:only-of-type {\n",
       "        vertical-align: middle;\n",
       "    }\n",
       "\n",
       "    .dataframe tbody tr th {\n",
       "        vertical-align: top;\n",
       "    }\n",
       "\n",
       "    .dataframe thead th {\n",
       "        text-align: right;\n",
       "    }\n",
       "</style>\n",
       "<table border=\"1\" class=\"dataframe\">\n",
       "  <thead>\n",
       "    <tr style=\"text-align: right;\">\n",
       "      <th></th>\n",
       "      <th>Record</th>\n",
       "      <th>Manhattan_Hu_Score</th>\n",
       "      <th>Euclidean_Hu_Score</th>\n",
       "      <th>Euclidean_Hu_Rank</th>\n",
       "      <th>Manhattan_Hu_Rank</th>\n",
       "    </tr>\n",
       "  </thead>\n",
       "  <tbody>\n",
       "    <tr>\n",
       "      <th>0</th>\n",
       "      <td>1</td>\n",
       "      <td>8.897773</td>\n",
       "      <td>3.684967</td>\n",
       "      <td>1070299.0</td>\n",
       "      <td>1070360.0</td>\n",
       "    </tr>\n",
       "    <tr>\n",
       "      <th>1</th>\n",
       "      <td>2</td>\n",
       "      <td>63.334717</td>\n",
       "      <td>29.901021</td>\n",
       "      <td>1070910.0</td>\n",
       "      <td>1070912.0</td>\n",
       "    </tr>\n",
       "    <tr>\n",
       "      <th>2</th>\n",
       "      <td>3</td>\n",
       "      <td>0.097159</td>\n",
       "      <td>0.045074</td>\n",
       "      <td>972237.0</td>\n",
       "      <td>976699.0</td>\n",
       "    </tr>\n",
       "    <tr>\n",
       "      <th>3</th>\n",
       "      <td>4</td>\n",
       "      <td>0.174390</td>\n",
       "      <td>0.072309</td>\n",
       "      <td>1016548.0</td>\n",
       "      <td>1024722.0</td>\n",
       "    </tr>\n",
       "    <tr>\n",
       "      <th>4</th>\n",
       "      <td>5</td>\n",
       "      <td>23.820779</td>\n",
       "      <td>10.455502</td>\n",
       "      <td>1070748.0</td>\n",
       "      <td>1070755.0</td>\n",
       "    </tr>\n",
       "  </tbody>\n",
       "</table>\n",
       "</div>"
      ],
      "text/plain": [
       "   Record  Manhattan_Hu_Score  Euclidean_Hu_Score  Euclidean_Hu_Rank  \\\n",
       "0       1            8.897773            3.684967          1070299.0   \n",
       "1       2           63.334717           29.901021          1070910.0   \n",
       "2       3            0.097159            0.045074           972237.0   \n",
       "3       4            0.174390            0.072309          1016548.0   \n",
       "4       5           23.820779           10.455502          1070748.0   \n",
       "\n",
       "   Manhattan_Hu_Rank  \n",
       "0          1070360.0  \n",
       "1          1070912.0  \n",
       "2           976699.0  \n",
       "3          1024722.0  \n",
       "4          1070755.0  "
      ]
     },
     "execution_count": 2,
     "metadata": {},
     "output_type": "execute_result"
    }
   ],
   "source": [
    "hu_df = pd.read_csv(\"fraud_ScoreAndRanks_HU.csv\")\n",
    "hu_df.head()"
   ]
  },
  {
   "cell_type": "code",
   "execution_count": 3,
   "metadata": {
    "ExecuteTime": {
     "end_time": "2019-02-21T07:35:03.497501Z",
     "start_time": "2019-02-21T07:35:00.594697Z"
    }
   },
   "outputs": [
    {
     "data": {
      "text/html": [
       "<div>\n",
       "<style scoped>\n",
       "    .dataframe tbody tr th:only-of-type {\n",
       "        vertical-align: middle;\n",
       "    }\n",
       "\n",
       "    .dataframe tbody tr th {\n",
       "        vertical-align: top;\n",
       "    }\n",
       "\n",
       "    .dataframe thead th {\n",
       "        text-align: right;\n",
       "    }\n",
       "</style>\n",
       "<table border=\"1\" class=\"dataframe\">\n",
       "  <thead>\n",
       "    <tr style=\"text-align: right;\">\n",
       "      <th></th>\n",
       "      <th>Record</th>\n",
       "      <th>Manhattan Score</th>\n",
       "      <th>Euclidean Score</th>\n",
       "      <th>Euclidean Rank</th>\n",
       "      <th>Manhattan Rank</th>\n",
       "    </tr>\n",
       "  </thead>\n",
       "  <tbody>\n",
       "    <tr>\n",
       "      <th>0</th>\n",
       "      <td>1</td>\n",
       "      <td>7.788621</td>\n",
       "      <td>3.495449</td>\n",
       "      <td>1070454.0</td>\n",
       "      <td>1070507.0</td>\n",
       "    </tr>\n",
       "    <tr>\n",
       "      <th>1</th>\n",
       "      <td>2</td>\n",
       "      <td>64.634199</td>\n",
       "      <td>29.361075</td>\n",
       "      <td>1070914.0</td>\n",
       "      <td>1070918.0</td>\n",
       "    </tr>\n",
       "    <tr>\n",
       "      <th>2</th>\n",
       "      <td>3</td>\n",
       "      <td>0.107536</td>\n",
       "      <td>0.044826</td>\n",
       "      <td>994124.0</td>\n",
       "      <td>1004014.0</td>\n",
       "    </tr>\n",
       "    <tr>\n",
       "      <th>3</th>\n",
       "      <td>4</td>\n",
       "      <td>0.150953</td>\n",
       "      <td>0.067885</td>\n",
       "      <td>1030781.0</td>\n",
       "      <td>1031880.0</td>\n",
       "    </tr>\n",
       "    <tr>\n",
       "      <th>4</th>\n",
       "      <td>5</td>\n",
       "      <td>22.111508</td>\n",
       "      <td>9.684507</td>\n",
       "      <td>1070770.0</td>\n",
       "      <td>1070780.0</td>\n",
       "    </tr>\n",
       "  </tbody>\n",
       "</table>\n",
       "</div>"
      ],
      "text/plain": [
       "   Record  Manhattan Score  Euclidean Score  Euclidean Rank  Manhattan Rank\n",
       "0       1         7.788621         3.495449       1070454.0       1070507.0\n",
       "1       2        64.634199        29.361075       1070914.0       1070918.0\n",
       "2       3         0.107536         0.044826        994124.0       1004014.0\n",
       "3       4         0.150953         0.067885       1030781.0       1031880.0\n",
       "4       5        22.111508         9.684507       1070770.0       1070780.0"
      ]
     },
     "execution_count": 3,
     "metadata": {},
     "output_type": "execute_result"
    }
   ],
   "source": [
    "ae_df = pd.read_csv(\"fraud_ScoreAndRanks_AE.csv\")\n",
    "ae_df.head()"
   ]
  },
  {
   "cell_type": "code",
   "execution_count": 4,
   "metadata": {
    "ExecuteTime": {
     "end_time": "2019-02-21T07:35:05.094218Z",
     "start_time": "2019-02-21T07:35:03.500495Z"
    }
   },
   "outputs": [],
   "source": [
    "allScores_df = ae_df.join(hu_df.set_index('Record'), on='Record')"
   ]
  },
  {
   "cell_type": "code",
   "execution_count": 5,
   "metadata": {
    "ExecuteTime": {
     "end_time": "2019-02-21T07:35:05.289329Z",
     "start_time": "2019-02-21T07:35:05.096214Z"
    },
    "scrolled": true
   },
   "outputs": [
    {
     "data": {
      "text/html": [
       "<div>\n",
       "<style scoped>\n",
       "    .dataframe tbody tr th:only-of-type {\n",
       "        vertical-align: middle;\n",
       "    }\n",
       "\n",
       "    .dataframe tbody tr th {\n",
       "        vertical-align: top;\n",
       "    }\n",
       "\n",
       "    .dataframe thead th {\n",
       "        text-align: right;\n",
       "    }\n",
       "</style>\n",
       "<table border=\"1\" class=\"dataframe\">\n",
       "  <thead>\n",
       "    <tr style=\"text-align: right;\">\n",
       "      <th></th>\n",
       "      <th>Record</th>\n",
       "      <th>Manhattan Score</th>\n",
       "      <th>Euclidean Score</th>\n",
       "      <th>Euclidean Rank</th>\n",
       "      <th>Manhattan Rank</th>\n",
       "      <th>Manhattan_Hu_Score</th>\n",
       "      <th>Euclidean_Hu_Score</th>\n",
       "      <th>Euclidean_Hu_Rank</th>\n",
       "      <th>Manhattan_Hu_Rank</th>\n",
       "    </tr>\n",
       "  </thead>\n",
       "  <tbody>\n",
       "    <tr>\n",
       "      <th>0</th>\n",
       "      <td>1</td>\n",
       "      <td>7.788621</td>\n",
       "      <td>3.495449</td>\n",
       "      <td>1070454.0</td>\n",
       "      <td>1070507.0</td>\n",
       "      <td>8.897773</td>\n",
       "      <td>3.684967</td>\n",
       "      <td>1070299.0</td>\n",
       "      <td>1070360.0</td>\n",
       "    </tr>\n",
       "    <tr>\n",
       "      <th>1</th>\n",
       "      <td>2</td>\n",
       "      <td>64.634199</td>\n",
       "      <td>29.361075</td>\n",
       "      <td>1070914.0</td>\n",
       "      <td>1070918.0</td>\n",
       "      <td>63.334717</td>\n",
       "      <td>29.901021</td>\n",
       "      <td>1070910.0</td>\n",
       "      <td>1070912.0</td>\n",
       "    </tr>\n",
       "    <tr>\n",
       "      <th>2</th>\n",
       "      <td>3</td>\n",
       "      <td>0.107536</td>\n",
       "      <td>0.044826</td>\n",
       "      <td>994124.0</td>\n",
       "      <td>1004014.0</td>\n",
       "      <td>0.097159</td>\n",
       "      <td>0.045074</td>\n",
       "      <td>972237.0</td>\n",
       "      <td>976699.0</td>\n",
       "    </tr>\n",
       "    <tr>\n",
       "      <th>3</th>\n",
       "      <td>4</td>\n",
       "      <td>0.150953</td>\n",
       "      <td>0.067885</td>\n",
       "      <td>1030781.0</td>\n",
       "      <td>1031880.0</td>\n",
       "      <td>0.174390</td>\n",
       "      <td>0.072309</td>\n",
       "      <td>1016548.0</td>\n",
       "      <td>1024722.0</td>\n",
       "    </tr>\n",
       "    <tr>\n",
       "      <th>4</th>\n",
       "      <td>5</td>\n",
       "      <td>22.111508</td>\n",
       "      <td>9.684507</td>\n",
       "      <td>1070770.0</td>\n",
       "      <td>1070780.0</td>\n",
       "      <td>23.820779</td>\n",
       "      <td>10.455502</td>\n",
       "      <td>1070748.0</td>\n",
       "      <td>1070755.0</td>\n",
       "    </tr>\n",
       "  </tbody>\n",
       "</table>\n",
       "</div>"
      ],
      "text/plain": [
       "   Record  Manhattan Score  Euclidean Score  Euclidean Rank  Manhattan Rank  \\\n",
       "0       1         7.788621         3.495449       1070454.0       1070507.0   \n",
       "1       2        64.634199        29.361075       1070914.0       1070918.0   \n",
       "2       3         0.107536         0.044826        994124.0       1004014.0   \n",
       "3       4         0.150953         0.067885       1030781.0       1031880.0   \n",
       "4       5        22.111508         9.684507       1070770.0       1070780.0   \n",
       "\n",
       "   Manhattan_Hu_Score  Euclidean_Hu_Score  Euclidean_Hu_Rank  \\\n",
       "0            8.897773            3.684967          1070299.0   \n",
       "1           63.334717           29.901021          1070910.0   \n",
       "2            0.097159            0.045074           972237.0   \n",
       "3            0.174390            0.072309          1016548.0   \n",
       "4           23.820779           10.455502          1070748.0   \n",
       "\n",
       "   Manhattan_Hu_Rank  \n",
       "0          1070360.0  \n",
       "1          1070912.0  \n",
       "2           976699.0  \n",
       "3          1024722.0  \n",
       "4          1070755.0  "
      ]
     },
     "execution_count": 5,
     "metadata": {},
     "output_type": "execute_result"
    }
   ],
   "source": [
    "allScores_df.head()"
   ]
  },
  {
   "cell_type": "code",
   "execution_count": 6,
   "metadata": {
    "ExecuteTime": {
     "end_time": "2019-02-21T07:35:06.731266Z",
     "start_time": "2019-02-21T07:35:05.293312Z"
    },
    "scrolled": true
   },
   "outputs": [
    {
     "name": "stdout",
     "output_type": "stream",
     "text": [
      "<class 'pandas.core.frame.DataFrame'>\n",
      "RangeIndex: 1070994 entries, 0 to 1070993\n",
      "Data columns (total 9 columns):\n",
      "Record                1070994 non-null int64\n",
      "Manhattan Score       1070994 non-null float64\n",
      "Euclidean Score       1070994 non-null float64\n",
      "Euclidean Rank        1070994 non-null float64\n",
      "Manhattan Rank        1070994 non-null float64\n",
      "Manhattan_Hu_Score    1070994 non-null float64\n",
      "Euclidean_Hu_Score    1070994 non-null float64\n",
      "Euclidean_Hu_Rank     1070994 non-null float64\n",
      "Manhattan_Hu_Rank     1070994 non-null float64\n",
      "dtypes: float64(8), int64(1)\n",
      "memory usage: 73.5 MB\n"
     ]
    }
   ],
   "source": [
    "#Check for NaNs\n",
    "allScores_df.info()"
   ]
  },
  {
   "cell_type": "markdown",
   "metadata": {},
   "source": [
    "## Euclidean"
   ]
  },
  {
   "cell_type": "code",
   "execution_count": 7,
   "metadata": {
    "ExecuteTime": {
     "end_time": "2019-02-21T07:35:06.965248Z",
     "start_time": "2019-02-21T07:35:06.733262Z"
    },
    "scrolled": true
   },
   "outputs": [
    {
     "data": {
      "text/html": [
       "<div>\n",
       "<style scoped>\n",
       "    .dataframe tbody tr th:only-of-type {\n",
       "        vertical-align: middle;\n",
       "    }\n",
       "\n",
       "    .dataframe tbody tr th {\n",
       "        vertical-align: top;\n",
       "    }\n",
       "\n",
       "    .dataframe thead th {\n",
       "        text-align: right;\n",
       "    }\n",
       "</style>\n",
       "<table border=\"1\" class=\"dataframe\">\n",
       "  <thead>\n",
       "    <tr style=\"text-align: right;\">\n",
       "      <th></th>\n",
       "      <th>Record</th>\n",
       "      <th>Euclidean Score</th>\n",
       "      <th>Euclidean Rank</th>\n",
       "      <th>Euclidean_Hu_Score</th>\n",
       "      <th>Euclidean_Hu_Rank</th>\n",
       "    </tr>\n",
       "  </thead>\n",
       "  <tbody>\n",
       "    <tr>\n",
       "      <th>0</th>\n",
       "      <td>1</td>\n",
       "      <td>3.495449</td>\n",
       "      <td>1070454.0</td>\n",
       "      <td>3.684967</td>\n",
       "      <td>1070299.0</td>\n",
       "    </tr>\n",
       "    <tr>\n",
       "      <th>1</th>\n",
       "      <td>2</td>\n",
       "      <td>29.361075</td>\n",
       "      <td>1070914.0</td>\n",
       "      <td>29.901021</td>\n",
       "      <td>1070910.0</td>\n",
       "    </tr>\n",
       "    <tr>\n",
       "      <th>2</th>\n",
       "      <td>3</td>\n",
       "      <td>0.044826</td>\n",
       "      <td>994124.0</td>\n",
       "      <td>0.045074</td>\n",
       "      <td>972237.0</td>\n",
       "    </tr>\n",
       "    <tr>\n",
       "      <th>3</th>\n",
       "      <td>4</td>\n",
       "      <td>0.067885</td>\n",
       "      <td>1030781.0</td>\n",
       "      <td>0.072309</td>\n",
       "      <td>1016548.0</td>\n",
       "    </tr>\n",
       "    <tr>\n",
       "      <th>4</th>\n",
       "      <td>5</td>\n",
       "      <td>9.684507</td>\n",
       "      <td>1070770.0</td>\n",
       "      <td>10.455502</td>\n",
       "      <td>1070748.0</td>\n",
       "    </tr>\n",
       "  </tbody>\n",
       "</table>\n",
       "</div>"
      ],
      "text/plain": [
       "   Record  Euclidean Score  Euclidean Rank  Euclidean_Hu_Score  \\\n",
       "0       1         3.495449       1070454.0            3.684967   \n",
       "1       2        29.361075       1070914.0           29.901021   \n",
       "2       3         0.044826        994124.0            0.045074   \n",
       "3       4         0.067885       1030781.0            0.072309   \n",
       "4       5         9.684507       1070770.0           10.455502   \n",
       "\n",
       "   Euclidean_Hu_Rank  \n",
       "0          1070299.0  \n",
       "1          1070910.0  \n",
       "2           972237.0  \n",
       "3          1016548.0  \n",
       "4          1070748.0  "
      ]
     },
     "execution_count": 7,
     "metadata": {},
     "output_type": "execute_result"
    }
   ],
   "source": [
    "eucScores_df = allScores_df.loc[:, allScores_df.columns.str.contains('Euclidean')]\n",
    "eucScores_df.insert(0,'Record',eucScores_df.index+1)\n",
    "eucScores_df.head()"
   ]
  },
  {
   "cell_type": "code",
   "execution_count": 8,
   "metadata": {
    "ExecuteTime": {
     "end_time": "2019-02-21T07:35:09.525387Z",
     "start_time": "2019-02-21T07:35:06.969205Z"
    },
    "scrolled": false
   },
   "outputs": [
    {
     "name": "stderr",
     "output_type": "stream",
     "text": [
      "C:\\Users\\Gregy\\Anaconda3\\Anaconda3_USC\\lib\\site-packages\\ipykernel_launcher.py:4: SettingWithCopyWarning: \n",
      "A value is trying to be set on a copy of a slice from a DataFrame.\n",
      "Try using .loc[row_indexer,col_indexer] = value instead\n",
      "\n",
      "See the caveats in the documentation: http://pandas.pydata.org/pandas-docs/stable/indexing.html#indexing-view-versus-copy\n",
      "  after removing the cwd from sys.path.\n"
     ]
    },
    {
     "data": {
      "text/html": [
       "<div>\n",
       "<style scoped>\n",
       "    .dataframe tbody tr th:only-of-type {\n",
       "        vertical-align: middle;\n",
       "    }\n",
       "\n",
       "    .dataframe tbody tr th {\n",
       "        vertical-align: top;\n",
       "    }\n",
       "\n",
       "    .dataframe thead th {\n",
       "        text-align: right;\n",
       "    }\n",
       "</style>\n",
       "<table border=\"1\" class=\"dataframe\">\n",
       "  <thead>\n",
       "    <tr style=\"text-align: right;\">\n",
       "      <th></th>\n",
       "      <th>Record</th>\n",
       "      <th>Euclidean Score</th>\n",
       "      <th>Euclidean Rank</th>\n",
       "      <th>Euclidean_Hu_Score</th>\n",
       "      <th>Euclidean_Hu_Rank</th>\n",
       "      <th>Wt_AeHu_Zscore</th>\n",
       "    </tr>\n",
       "  </thead>\n",
       "  <tbody>\n",
       "    <tr>\n",
       "      <th>0</th>\n",
       "      <td>1</td>\n",
       "      <td>3.495449</td>\n",
       "      <td>1070454.0</td>\n",
       "      <td>3.684967</td>\n",
       "      <td>1070299.0</td>\n",
       "      <td>3.590208</td>\n",
       "    </tr>\n",
       "    <tr>\n",
       "      <th>1</th>\n",
       "      <td>2</td>\n",
       "      <td>29.361075</td>\n",
       "      <td>1070914.0</td>\n",
       "      <td>29.901021</td>\n",
       "      <td>1070910.0</td>\n",
       "      <td>29.631048</td>\n",
       "    </tr>\n",
       "    <tr>\n",
       "      <th>2</th>\n",
       "      <td>3</td>\n",
       "      <td>0.044826</td>\n",
       "      <td>994124.0</td>\n",
       "      <td>0.045074</td>\n",
       "      <td>972237.0</td>\n",
       "      <td>0.044950</td>\n",
       "    </tr>\n",
       "    <tr>\n",
       "      <th>3</th>\n",
       "      <td>4</td>\n",
       "      <td>0.067885</td>\n",
       "      <td>1030781.0</td>\n",
       "      <td>0.072309</td>\n",
       "      <td>1016548.0</td>\n",
       "      <td>0.070097</td>\n",
       "    </tr>\n",
       "    <tr>\n",
       "      <th>4</th>\n",
       "      <td>5</td>\n",
       "      <td>9.684507</td>\n",
       "      <td>1070770.0</td>\n",
       "      <td>10.455502</td>\n",
       "      <td>1070748.0</td>\n",
       "      <td>10.070004</td>\n",
       "    </tr>\n",
       "  </tbody>\n",
       "</table>\n",
       "</div>"
      ],
      "text/plain": [
       "   Record  Euclidean Score  Euclidean Rank  Euclidean_Hu_Score  \\\n",
       "0       1         3.495449       1070454.0            3.684967   \n",
       "1       2        29.361075       1070914.0           29.901021   \n",
       "2       3         0.044826        994124.0            0.045074   \n",
       "3       4         0.067885       1030781.0            0.072309   \n",
       "4       5         9.684507       1070770.0           10.455502   \n",
       "\n",
       "   Euclidean_Hu_Rank  Wt_AeHu_Zscore  \n",
       "0          1070299.0        3.590208  \n",
       "1          1070910.0       29.631048  \n",
       "2           972237.0        0.044950  \n",
       "3          1016548.0        0.070097  \n",
       "4          1070748.0       10.070004  "
      ]
     },
     "execution_count": 8,
     "metadata": {},
     "output_type": "execute_result"
    }
   ],
   "source": [
    "wt_Hu = 0.5\n",
    "wt_Ae=0.5\n",
    "wt_Var=(wt_Hu**2)+(wt_Ae**2)\n",
    "eucScores_df['Wt_AeHu_Zscore']=wt_Hu*eucScores_df['Euclidean_Hu_Score']+wt_Ae*eucScores_df['Euclidean Score']\n",
    "#eucScores_df['Wt_AeHu_ZscoreII']=(wt_Hu*eucScores_df['Euclidean_Hu_Score']+wt_Ae*eucScores_df['Euclidean Score'])/(wt_Var)\n",
    "eucScores_df.head()"
   ]
  },
  {
   "cell_type": "code",
   "execution_count": 9,
   "metadata": {
    "ExecuteTime": {
     "end_time": "2019-02-21T07:35:10.045291Z",
     "start_time": "2019-02-21T07:35:09.530373Z"
    }
   },
   "outputs": [
    {
     "name": "stderr",
     "output_type": "stream",
     "text": [
      "C:\\Users\\Gregy\\Anaconda3\\Anaconda3_USC\\lib\\site-packages\\ipykernel_launcher.py:1: SettingWithCopyWarning: \n",
      "A value is trying to be set on a copy of a slice from a DataFrame.\n",
      "Try using .loc[row_indexer,col_indexer] = value instead\n",
      "\n",
      "See the caveats in the documentation: http://pandas.pydata.org/pandas-docs/stable/indexing.html#indexing-view-versus-copy\n",
      "  \"\"\"Entry point for launching an IPython kernel.\n"
     ]
    },
    {
     "data": {
      "text/html": [
       "<div>\n",
       "<style scoped>\n",
       "    .dataframe tbody tr th:only-of-type {\n",
       "        vertical-align: middle;\n",
       "    }\n",
       "\n",
       "    .dataframe tbody tr th {\n",
       "        vertical-align: top;\n",
       "    }\n",
       "\n",
       "    .dataframe thead th {\n",
       "        text-align: right;\n",
       "    }\n",
       "</style>\n",
       "<table border=\"1\" class=\"dataframe\">\n",
       "  <thead>\n",
       "    <tr style=\"text-align: right;\">\n",
       "      <th></th>\n",
       "      <th>Record</th>\n",
       "      <th>Euclidean Score</th>\n",
       "      <th>Euclidean Rank</th>\n",
       "      <th>Euclidean_Hu_Score</th>\n",
       "      <th>Euclidean_Hu_Rank</th>\n",
       "      <th>Wt_AeHu_Zscore</th>\n",
       "      <th>Wt_AeHu_Z_Rank</th>\n",
       "    </tr>\n",
       "  </thead>\n",
       "  <tbody>\n",
       "    <tr>\n",
       "      <th>0</th>\n",
       "      <td>1</td>\n",
       "      <td>3.495449</td>\n",
       "      <td>1070454.0</td>\n",
       "      <td>3.684967</td>\n",
       "      <td>1070299.0</td>\n",
       "      <td>3.590208</td>\n",
       "      <td>1070385.0</td>\n",
       "    </tr>\n",
       "    <tr>\n",
       "      <th>1</th>\n",
       "      <td>2</td>\n",
       "      <td>29.361075</td>\n",
       "      <td>1070914.0</td>\n",
       "      <td>29.901021</td>\n",
       "      <td>1070910.0</td>\n",
       "      <td>29.631048</td>\n",
       "      <td>1070913.0</td>\n",
       "    </tr>\n",
       "    <tr>\n",
       "      <th>2</th>\n",
       "      <td>3</td>\n",
       "      <td>0.044826</td>\n",
       "      <td>994124.0</td>\n",
       "      <td>0.045074</td>\n",
       "      <td>972237.0</td>\n",
       "      <td>0.044950</td>\n",
       "      <td>981453.0</td>\n",
       "    </tr>\n",
       "    <tr>\n",
       "      <th>3</th>\n",
       "      <td>4</td>\n",
       "      <td>0.067885</td>\n",
       "      <td>1030781.0</td>\n",
       "      <td>0.072309</td>\n",
       "      <td>1016548.0</td>\n",
       "      <td>0.070097</td>\n",
       "      <td>1022442.0</td>\n",
       "    </tr>\n",
       "    <tr>\n",
       "      <th>4</th>\n",
       "      <td>5</td>\n",
       "      <td>9.684507</td>\n",
       "      <td>1070770.0</td>\n",
       "      <td>10.455502</td>\n",
       "      <td>1070748.0</td>\n",
       "      <td>10.070004</td>\n",
       "      <td>1070761.0</td>\n",
       "    </tr>\n",
       "  </tbody>\n",
       "</table>\n",
       "</div>"
      ],
      "text/plain": [
       "   Record  Euclidean Score  Euclidean Rank  Euclidean_Hu_Score  \\\n",
       "0       1         3.495449       1070454.0            3.684967   \n",
       "1       2        29.361075       1070914.0           29.901021   \n",
       "2       3         0.044826        994124.0            0.045074   \n",
       "3       4         0.067885       1030781.0            0.072309   \n",
       "4       5         9.684507       1070770.0           10.455502   \n",
       "\n",
       "   Euclidean_Hu_Rank  Wt_AeHu_Zscore  Wt_AeHu_Z_Rank  \n",
       "0          1070299.0        3.590208       1070385.0  \n",
       "1          1070910.0       29.631048       1070913.0  \n",
       "2           972237.0        0.044950        981453.0  \n",
       "3          1016548.0        0.070097       1022442.0  \n",
       "4          1070748.0       10.070004       1070761.0  "
      ]
     },
     "execution_count": 9,
     "metadata": {},
     "output_type": "execute_result"
    }
   ],
   "source": [
    "eucScores_df['Wt_AeHu_Z_Rank'] = eucScores_df['Wt_AeHu_Zscore'].rank(ascending=1)\n",
    "\n",
    "eucScores_df.head()"
   ]
  },
  {
   "cell_type": "code",
   "execution_count": 10,
   "metadata": {
    "ExecuteTime": {
     "end_time": "2019-02-21T07:35:29.006572Z",
     "start_time": "2019-02-21T07:35:10.048282Z"
    }
   },
   "outputs": [],
   "source": [
    "eucScores_df.sort_values('Wt_AeHu_Z_Rank',ascending=False).to_csv('fraud_ScoreAndRanks_Euclidean.csv',index=False)"
   ]
  },
  {
   "cell_type": "code",
   "execution_count": 11,
   "metadata": {
    "ExecuteTime": {
     "end_time": "2019-02-21T07:35:29.323528Z",
     "start_time": "2019-02-21T07:35:29.009564Z"
    }
   },
   "outputs": [
    {
     "data": {
      "text/plain": [
       "1515.607345142903"
      ]
     },
     "execution_count": 11,
     "metadata": {},
     "output_type": "execute_result"
    }
   ],
   "source": [
    "eucScores_df['Wt_AeHu_Zscore'].max()"
   ]
  },
  {
   "cell_type": "code",
   "execution_count": 12,
   "metadata": {
    "ExecuteTime": {
     "end_time": "2019-02-21T07:35:29.816619Z",
     "start_time": "2019-02-21T07:35:29.326485Z"
    },
    "scrolled": false
   },
   "outputs": [
    {
     "data": {
      "text/html": [
       "<div>\n",
       "<style scoped>\n",
       "    .dataframe tbody tr th:only-of-type {\n",
       "        vertical-align: middle;\n",
       "    }\n",
       "\n",
       "    .dataframe tbody tr th {\n",
       "        vertical-align: top;\n",
       "    }\n",
       "\n",
       "    .dataframe thead th {\n",
       "        text-align: right;\n",
       "    }\n",
       "</style>\n",
       "<table border=\"1\" class=\"dataframe\">\n",
       "  <thead>\n",
       "    <tr style=\"text-align: right;\">\n",
       "      <th></th>\n",
       "      <th>Record</th>\n",
       "      <th>Euclidean Score</th>\n",
       "      <th>Euclidean Rank</th>\n",
       "      <th>Euclidean_Hu_Score</th>\n",
       "      <th>Euclidean_Hu_Rank</th>\n",
       "      <th>Wt_AeHu_Zscore</th>\n",
       "      <th>Wt_AeHu_Z_Rank</th>\n",
       "    </tr>\n",
       "  </thead>\n",
       "  <tbody>\n",
       "    <tr>\n",
       "      <th>917941</th>\n",
       "      <td>917942</td>\n",
       "      <td>1515.356066</td>\n",
       "      <td>1070994.0</td>\n",
       "      <td>1515.858624</td>\n",
       "      <td>1070994.0</td>\n",
       "      <td>1515.607345</td>\n",
       "      <td>1070994.0</td>\n",
       "    </tr>\n",
       "    <tr>\n",
       "      <th>632815</th>\n",
       "      <td>632816</td>\n",
       "      <td>1341.344234</td>\n",
       "      <td>1070993.0</td>\n",
       "      <td>1342.360691</td>\n",
       "      <td>1070993.0</td>\n",
       "      <td>1341.852462</td>\n",
       "      <td>1070993.0</td>\n",
       "    </tr>\n",
       "    <tr>\n",
       "      <th>565391</th>\n",
       "      <td>565392</td>\n",
       "      <td>1178.906699</td>\n",
       "      <td>1070992.0</td>\n",
       "      <td>1180.496551</td>\n",
       "      <td>1070992.0</td>\n",
       "      <td>1179.701625</td>\n",
       "      <td>1070992.0</td>\n",
       "    </tr>\n",
       "    <tr>\n",
       "      <th>67128</th>\n",
       "      <td>67129</td>\n",
       "      <td>780.246761</td>\n",
       "      <td>1070991.0</td>\n",
       "      <td>781.532251</td>\n",
       "      <td>1070991.0</td>\n",
       "      <td>780.889506</td>\n",
       "      <td>1070991.0</td>\n",
       "    </tr>\n",
       "    <tr>\n",
       "      <th>565397</th>\n",
       "      <td>565398</td>\n",
       "      <td>645.192100</td>\n",
       "      <td>1070990.0</td>\n",
       "      <td>646.865899</td>\n",
       "      <td>1070990.0</td>\n",
       "      <td>646.028999</td>\n",
       "      <td>1070990.0</td>\n",
       "    </tr>\n",
       "    <tr>\n",
       "      <th>918203</th>\n",
       "      <td>918204</td>\n",
       "      <td>570.903356</td>\n",
       "      <td>1070989.0</td>\n",
       "      <td>572.597113</td>\n",
       "      <td>1070989.0</td>\n",
       "      <td>571.750234</td>\n",
       "      <td>1070989.0</td>\n",
       "    </tr>\n",
       "    <tr>\n",
       "      <th>585117</th>\n",
       "      <td>585118</td>\n",
       "      <td>326.750414</td>\n",
       "      <td>1070988.0</td>\n",
       "      <td>328.569951</td>\n",
       "      <td>1070988.0</td>\n",
       "      <td>327.660182</td>\n",
       "      <td>1070988.0</td>\n",
       "    </tr>\n",
       "    <tr>\n",
       "      <th>585119</th>\n",
       "      <td>585120</td>\n",
       "      <td>281.326021</td>\n",
       "      <td>1070987.0</td>\n",
       "      <td>283.140425</td>\n",
       "      <td>1070987.0</td>\n",
       "      <td>282.233223</td>\n",
       "      <td>1070987.0</td>\n",
       "    </tr>\n",
       "    <tr>\n",
       "      <th>85885</th>\n",
       "      <td>85886</td>\n",
       "      <td>261.620377</td>\n",
       "      <td>1070986.0</td>\n",
       "      <td>263.228291</td>\n",
       "      <td>1070986.0</td>\n",
       "      <td>262.424334</td>\n",
       "      <td>1070986.0</td>\n",
       "    </tr>\n",
       "    <tr>\n",
       "      <th>585438</th>\n",
       "      <td>585439</td>\n",
       "      <td>143.934021</td>\n",
       "      <td>1070985.0</td>\n",
       "      <td>146.207468</td>\n",
       "      <td>1070985.0</td>\n",
       "      <td>145.070744</td>\n",
       "      <td>1070985.0</td>\n",
       "    </tr>\n",
       "  </tbody>\n",
       "</table>\n",
       "</div>"
      ],
      "text/plain": [
       "        Record  Euclidean Score  Euclidean Rank  Euclidean_Hu_Score  \\\n",
       "917941  917942      1515.356066       1070994.0         1515.858624   \n",
       "632815  632816      1341.344234       1070993.0         1342.360691   \n",
       "565391  565392      1178.906699       1070992.0         1180.496551   \n",
       "67128    67129       780.246761       1070991.0          781.532251   \n",
       "565397  565398       645.192100       1070990.0          646.865899   \n",
       "918203  918204       570.903356       1070989.0          572.597113   \n",
       "585117  585118       326.750414       1070988.0          328.569951   \n",
       "585119  585120       281.326021       1070987.0          283.140425   \n",
       "85885    85886       261.620377       1070986.0          263.228291   \n",
       "585438  585439       143.934021       1070985.0          146.207468   \n",
       "\n",
       "        Euclidean_Hu_Rank  Wt_AeHu_Zscore  Wt_AeHu_Z_Rank  \n",
       "917941          1070994.0     1515.607345       1070994.0  \n",
       "632815          1070993.0     1341.852462       1070993.0  \n",
       "565391          1070992.0     1179.701625       1070992.0  \n",
       "67128           1070991.0      780.889506       1070991.0  \n",
       "565397          1070990.0      646.028999       1070990.0  \n",
       "918203          1070989.0      571.750234       1070989.0  \n",
       "585117          1070988.0      327.660182       1070988.0  \n",
       "585119          1070987.0      282.233223       1070987.0  \n",
       "85885           1070986.0      262.424334       1070986.0  \n",
       "585438          1070985.0      145.070744       1070985.0  "
      ]
     },
     "execution_count": 12,
     "metadata": {},
     "output_type": "execute_result"
    }
   ],
   "source": [
    "eucScores_df.sort_values('Wt_AeHu_Z_Rank',ascending=False).head(10)"
   ]
  },
  {
   "cell_type": "markdown",
   "metadata": {
    "ExecuteTime": {
     "end_time": "2019-02-20T03:38:25.950860Z",
     "start_time": "2019-02-20T03:38:25.944874Z"
    }
   },
   "source": [
    "# Plots"
   ]
  },
  {
   "cell_type": "markdown",
   "metadata": {
    "ExecuteTime": {
     "end_time": "2019-02-20T03:54:57.903350Z",
     "start_time": "2019-02-20T03:54:57.898361Z"
    }
   },
   "source": [
    "## AutoEncoder - model 1 Score"
   ]
  },
  {
   "cell_type": "code",
   "execution_count": 13,
   "metadata": {
    "ExecuteTime": {
     "end_time": "2019-02-21T07:37:39.886132Z",
     "start_time": "2019-02-21T07:37:35.018492Z"
    },
    "scrolled": true
   },
   "outputs": [
    {
     "name": "stderr",
     "output_type": "stream",
     "text": [
      "C:\\Users\\Gregy\\Anaconda3\\Anaconda3_USC\\lib\\site-packages\\matplotlib\\axes\\_axes.py:6462: UserWarning: The 'normed' kwarg is deprecated, and has been replaced by the 'density' kwarg.\n",
      "  warnings.warn(\"The 'normed' kwarg is deprecated, and has been \"\n"
     ]
    },
    {
     "data": {
      "image/png": "[encoded data removed]",
      "text/plain": [
       "<Figure size 432x288 with 1 Axes>"
      ]
     },
     "metadata": {},
     "output_type": "display_data"
    }
   ],
   "source": [
    "colName='Euclidean Score'\n",
    "\n",
    "temp = eucScores_df\n",
    "\n",
    "#xhigh =1.25\n",
    "#temp = eucScores_df[eucScores_df[colName] <= xhigh]\n",
    "\n",
    "sns.distplot(temp[colName],bins=100, kde = False)\n",
    "plt.title('Distribution of AutoEncoder Fraud Score', fontsize=16)\n",
    "#plt.xscale('log')\n",
    "plt.yscale('log')\n",
    "plt.ylabel('Number of Records', fontsize=12)\n",
    "#plt.ylim((0.00, 25)) \n",
    "#plt.xlim((0.00, 25)) \n",
    "plt.xlabel(\"Score 2\", fontsize=12)\n",
    "#plt.savefig(\"imgs/\"+colName+\".png\")\n",
    "plt.show()"
   ]
  },
  {
   "cell_type": "code",
   "execution_count": null,
   "metadata": {},
   "outputs": [],
   "source": []
  },
  {
   "cell_type": "code",
   "execution_count": null,
   "metadata": {},
   "outputs": [],
   "source": []
  },
  {
   "cell_type": "markdown",
   "metadata": {
    "ExecuteTime": {
     "end_time": "2019-02-20T03:56:38.792799Z",
     "start_time": "2019-02-20T03:56:38.788810Z"
    }
   },
   "source": [
    "## Heuristic - model 2 Score"
   ]
  },
  {
   "cell_type": "code",
   "execution_count": 14,
   "metadata": {
    "ExecuteTime": {
     "end_time": "2019-02-21T07:37:56.525413Z",
     "start_time": "2019-02-21T07:37:55.581838Z"
    },
    "scrolled": true
   },
   "outputs": [
    {
     "name": "stderr",
     "output_type": "stream",
     "text": [
      "C:\\Users\\Gregy\\Anaconda3\\Anaconda3_USC\\lib\\site-packages\\matplotlib\\axes\\_axes.py:6462: UserWarning: The 'normed' kwarg is deprecated, and has been replaced by the 'density' kwarg.\n",
      "  warnings.warn(\"The 'normed' kwarg is deprecated, and has been \"\n"
     ]
    },
    {
     "data": {
      "image/png": "[encoded data removed]",
      "text/plain": [
       "<Figure size 432x288 with 1 Axes>"
      ]
     },
     "metadata": {},
     "output_type": "display_data"
    }
   ],
   "source": [
    "colName='Euclidean_Hu_Score'\n",
    "\n",
    "temp = eucScores_df\n",
    "\n",
    "#xhigh =1.25\n",
    "#temp = eucScores_df[eucScores_df[colName] <= xhigh]\n",
    "\n",
    "sns.distplot(temp[colName],bins=100, kde = False)\n",
    "plt.title('Distribution of Heuristic Fraud Score', fontsize=16)\n",
    "#plt.xscale('log')\n",
    "plt.yscale('log')\n",
    "plt.ylabel('Number of Records', fontsize=12)\n",
    "#plt.ylim((0.00, 25)) \n",
    "#plt.xlim((0.00, 25)) \n",
    "plt.xlabel('Score 1', fontsize=12)\n",
    "#plt.savefig(\"imgs/\"+colName+\".png\")\n",
    "plt.show()"
   ]
  },
  {
   "cell_type": "markdown",
   "metadata": {
    "ExecuteTime": {
     "end_time": "2019-02-20T03:59:45.616010Z",
     "start_time": "2019-02-20T03:59:45.613015Z"
    }
   },
   "source": [
    "## Final Score - Combination of AE and HU"
   ]
  },
  {
   "cell_type": "code",
   "execution_count": 15,
   "metadata": {
    "ExecuteTime": {
     "end_time": "2019-02-21T07:40:15.272477Z",
     "start_time": "2019-02-21T07:40:14.423745Z"
    }
   },
   "outputs": [
    {
     "name": "stderr",
     "output_type": "stream",
     "text": [
      "C:\\Users\\Gregy\\Anaconda3\\Anaconda3_USC\\lib\\site-packages\\matplotlib\\axes\\_axes.py:6462: UserWarning: The 'normed' kwarg is deprecated, and has been replaced by the 'density' kwarg.\n",
      "  warnings.warn(\"The 'normed' kwarg is deprecated, and has been \"\n"
     ]
    },
    {
     "data": {
      "image/png": "[encoded data removed]",
      "text/plain": [
       "<Figure size 432x288 with 1 Axes>"
      ]
     },
     "metadata": {},
     "output_type": "display_data"
    }
   ],
   "source": [
    "colName='Wt_AeHu_Zscore'\n",
    "\n",
    "temp = eucScores_df\n",
    "\n",
    "#xhigh =1.25\n",
    "#temp = eucScores_df[eucScores_df[colName] <= xhigh]\n",
    "\n",
    "sns.distplot(temp[colName],bins=100, kde = False)\n",
    "plt.title('Distribution of Final Fraud Score', fontsize=16)\n",
    "#plt.xscale('log')\n",
    "plt.yscale('log')\n",
    "plt.ylabel('Number of Records', fontsize=12)\n",
    "#plt.ylim((0.00, 25)) \n",
    "#plt.xlim((0.00, 25)) \n",
    "plt.xlabel('Final Score', fontsize=12)\n",
    "#plt.savefig(\"imgs/\"+colName+\".png\")\n",
    "plt.show()"
   ]
  },
  {
   "cell_type": "code",
   "execution_count": 16,
   "metadata": {
    "ExecuteTime": {
     "end_time": "2019-02-21T07:40:48.065326Z",
     "start_time": "2019-02-21T07:40:46.924227Z"
    },
    "scrolled": false
   },
   "outputs": [
    {
     "name": "stderr",
     "output_type": "stream",
     "text": [
      "C:\\Users\\Gregy\\Anaconda3\\Anaconda3_USC\\lib\\site-packages\\matplotlib\\axes\\_axes.py:6462: UserWarning: The 'normed' kwarg is deprecated, and has been replaced by the 'density' kwarg.\n",
      "  warnings.warn(\"The 'normed' kwarg is deprecated, and has been \"\n"
     ]
    },
    {
     "data": {
      "image/png": "[encoded data removed]",
      "text/plain": [
       "<Figure size 432x288 with 1 Axes>"
      ]
     },
     "metadata": {},
     "output_type": "display_data"
    }
   ],
   "source": [
    "colName='Wt_AeHu_Zscore'\n",
    "\n",
    "temp = eucScores_df\n",
    "\n",
    "#xhigh =1.25\n",
    "#temp = eucScores_df[eucScores_df[colName] <= xhigh]\n",
    "\n",
    "sns.distplot(temp[colName],bins=100, kde = False)\n",
    "plt.title('Distribution of Final Fraud Score', fontsize=16)\n",
    "plt.xscale('log')\n",
    "plt.yscale('log')\n",
    "plt.ylabel('Number of Records', fontsize=12)\n",
    "#plt.ylim((0.00, 25)) \n",
    "#plt.xlim((0.00, 25)) \n",
    "plt.xlabel('Final Score', fontsize=12)\n",
    "#plt.savefig(\"imgs/\"+colName+\".png\")\n",
    "plt.show()"
   ]
  },
  {
   "cell_type": "code",
   "execution_count": 91,
   "metadata": {
    "ExecuteTime": {
     "end_time": "2019-02-20T07:56:26.833619Z",
     "start_time": "2019-02-20T07:56:26.073300Z"
    }
   },
   "outputs": [
    {
     "name": "stderr",
     "output_type": "stream",
     "text": [
      "C:\\Users\\Gregy\\Anaconda3\\Anaconda3_USC\\lib\\site-packages\\matplotlib\\axes\\_axes.py:6462: UserWarning: The 'normed' kwarg is deprecated, and has been replaced by the 'density' kwarg.\n",
      "  warnings.warn(\"The 'normed' kwarg is deprecated, and has been \"\n"
     ]
    },
    {
     "data": {
      "text/plain": [
       "<function matplotlib.pyplot.show(*args, **kw)>"
      ]
     },
     "execution_count": 91,
     "metadata": {},
     "output_type": "execute_result"
    },
    {
     "data": {
      "image/png": "[encoded data removed]",
      "text/plain": [
       "<Figure size 432x288 with 1 Axes>"
      ]
     },
     "metadata": {},
     "output_type": "display_data"
    }
   ],
   "source": [
    "ax = sns.distplot(eucScores_df['Wt_AeHu_Zscore'],\\\n",
    "             bins = 50, kde = False, hist = True, color = 'blue', hist_kws={'edgecolor':'black'})\n",
    "ax.set_yscale('log')\n",
    "plt.show"
   ]
  },
  {
   "cell_type": "code",
   "execution_count": 88,
   "metadata": {
    "ExecuteTime": {
     "end_time": "2019-02-20T05:12:10.499478Z",
     "start_time": "2019-02-20T05:12:09.812289Z"
    }
   },
   "outputs": [
    {
     "name": "stderr",
     "output_type": "stream",
     "text": [
      "C:\\Users\\Gregy\\Anaconda3\\Anaconda3_USC\\lib\\site-packages\\matplotlib\\axes\\_axes.py:6462: UserWarning: The 'normed' kwarg is deprecated, and has been replaced by the 'density' kwarg.\n",
      "  warnings.warn(\"The 'normed' kwarg is deprecated, and has been \"\n"
     ]
    },
    {
     "data": {
      "image/png": "[encoded data removed]",
      "text/plain": [
       "<Figure size 432x288 with 1 Axes>"
      ]
     },
     "metadata": {},
     "output_type": "display_data"
    }
   ],
   "source": [
    "colName='Euclidean Score'\n",
    "xhigh =1500 #1.25\n",
    "#sns.plt.xlim(0,xhigh)\n",
    "temp = eucScores_df\n",
    "#temp = eucScores_df[eucScores_df[colName] <= xhigh]\n",
    "sns.distplot(temp[colName],bins=100, kde=False)\n",
    "plt.title('Distribution of :'+colName)\n",
    "#plt.xscale('log')\n",
    "plt.yscale('log')\n",
    "plt.ylabel('Density of probability', fontsize=12)\n",
    "#plt.ylim((0.00, 30)) \n",
    "#plt.xlim((0.00, 25)) \n",
    "plt.xlabel(colName, fontsize=12)\n",
    "#plt.savefig(\"imgs/\"+colName+\".png\")\n",
    "plt.show()"
   ]
  },
  {
   "cell_type": "markdown",
   "metadata": {},
   "source": [
    "## Check the original data"
   ]
  },
  {
   "cell_type": "code",
   "execution_count": null,
   "metadata": {
    "ExecuteTime": {
     "end_time": "2019-02-17T11:15:51.101741Z",
     "start_time": "2019-02-17T11:15:44.821505Z"
    }
   },
   "outputs": [],
   "source": [
    "NY_df = pd.read_csv(\"Combined After Fill Missing.csv\")"
   ]
  },
  {
   "cell_type": "code",
   "execution_count": null,
   "metadata": {
    "ExecuteTime": {
     "end_time": "2019-02-17T11:20:31.472751Z",
     "start_time": "2019-02-17T11:20:31.438841Z"
    },
    "scrolled": true
   },
   "outputs": [],
   "source": [
    "NY_df[\"Fr_Rank\"] = eucScores_df['Wt_AeHu_Z_Rank']\n",
    "#NY_df[\"Fr_Rank\"] = eucScores_df['Wt_AeHu_Z_Rank']\n",
    "#NY_df[\"Fr_Rank\"] = eucScores_df['Wt_AeHu_Z_Rank']\n",
    "NY_df.head()"
   ]
  },
  {
   "cell_type": "code",
   "execution_count": null,
   "metadata": {
    "ExecuteTime": {
     "end_time": "2019-02-17T11:30:10.420875Z",
     "start_time": "2019-02-17T11:30:08.658556Z"
    }
   },
   "outputs": [],
   "source": [
    "NY_FraudSorted = NY_df.sort_values('Fr_Rank',ascending=False)"
   ]
  },
  {
   "cell_type": "code",
   "execution_count": null,
   "metadata": {
    "ExecuteTime": {
     "end_time": "2019-02-17T11:30:18.610724Z",
     "start_time": "2019-02-17T11:30:18.563850Z"
    },
    "scrolled": true
   },
   "outputs": [],
   "source": [
    "NY_FraudSorted.head()"
   ]
  },
  {
   "cell_type": "code",
   "execution_count": null,
   "metadata": {
    "ExecuteTime": {
     "end_time": "2019-02-17T11:40:50.243644Z",
     "start_time": "2019-02-17T11:40:21.015995Z"
    }
   },
   "outputs": [],
   "source": [
    "NY_FraudSorted.to_csv('NY_FraudSorted.csv',index=False)"
   ]
  },
  {
   "cell_type": "code",
   "execution_count": null,
   "metadata": {
    "ExecuteTime": {
     "end_time": "2019-02-17T11:38:36.054523Z",
     "start_time": "2019-02-17T11:38:36.046568Z"
    }
   },
   "outputs": [],
   "source": [
    "fraud10 = ['930998',\n",
    "            '371906',\n",
    "            '850051',\n",
    "            '514815',\n",
    "            '110315',\n",
    "            '189515',\n",
    "            '706903',\n",
    "            '917472',\n",
    "            '864377',\n",
    "            '892316']"
   ]
  },
  {
   "cell_type": "code",
   "execution_count": null,
   "metadata": {
    "ExecuteTime": {
     "end_time": "2019-02-17T11:38:44.768551Z",
     "start_time": "2019-02-17T11:38:44.762534Z"
    },
    "scrolled": true
   },
   "outputs": [],
   "source": [
    "fraud10"
   ]
  },
  {
   "cell_type": "code",
   "execution_count": null,
   "metadata": {
    "ExecuteTime": {
     "end_time": "2019-02-17T11:44:10.657381Z",
     "start_time": "2019-02-17T11:44:10.653391Z"
    },
    "scrolled": true
   },
   "outputs": [],
   "source": [
    "#NY_df.loc[NY_df['RECORD'].isin(fraud10)]"
   ]
  },
  {
   "cell_type": "code",
   "execution_count": null,
   "metadata": {
    "ExecuteTime": {
     "end_time": "2019-02-17T11:48:45.956513Z",
     "start_time": "2019-02-17T11:48:45.949530Z"
    }
   },
   "outputs": [],
   "source": [
    "cols = [\"RECORD\",\n",
    "        \"Fr_Rank\",\n",
    "        \"LTfront\",\n",
    "        \"LTdepth\",\n",
    "        \"BLDfront\",\n",
    "        \"BLDdepth\",\n",
    "        \"STORIES\",\n",
    "        \"OWNER\",\n",
    "        \"BLDGCL\",\n",
    "        \"TAXCLASS\",\n",
    "        \"ZIP\"\n",
    "       ]"
   ]
  },
  {
   "cell_type": "code",
   "execution_count": null,
   "metadata": {
    "ExecuteTime": {
     "end_time": "2019-02-17T11:48:58.063912Z",
     "start_time": "2019-02-17T11:48:57.918946Z"
    },
    "scrolled": true
   },
   "outputs": [],
   "source": [
    "NY_FraudSorted[cols].head(10)"
   ]
  },
  {
   "cell_type": "code",
   "execution_count": null,
   "metadata": {},
   "outputs": [],
   "source": [
    "colName='Wt_AeHu_Z_Rank'\n",
    "#xhigh =1.25\n",
    "#sns.plt.xlim(0,xhigh)\n",
    "temp = eucScores_df\n",
    "#temp = eucScores_df[eucScores_df[colName]] #<= xhigh]\n",
    "sns.distplot(temp[colName],bins=10000, kde=True)\n",
    "plt.title('Distribution of :'+colName)\n",
    "#plt.xscale('log')\n",
    "plt.ylabel('Density of probability', fontsize=12)\n",
    "plt.ylim((0.00, 25)) \n",
    "#plt.xlim((0.00, 25)) \n",
    "plt.xlabel(colName, fontsize=12)\n",
    "#plt.savefig(\"imgs/\"+colName+\".png\")\n",
    "plt.show()"
   ]
  },
  {
   "cell_type": "code",
   "execution_count": null,
   "metadata": {},
   "outputs": [],
   "source": []
  }
 ],
 "metadata": {
  "kernelspec": {
   "display_name": "Python 3",
   "language": "python",
   "name": "python3"
  },
  "language_info": {
   "codemirror_mode": {
    "name": "ipython",
    "version": 3
   },
   "file_extension": ".py",
   "mimetype": "text/x-python",
   "name": "python",
   "nbconvert_exporter": "python",
   "pygments_lexer": "ipython3",
   "version": "3.6.5"
  }
 },
 "nbformat": 4,
 "nbformat_minor": 2
}
