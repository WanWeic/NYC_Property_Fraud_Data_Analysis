{
 "cells": [
  {
   "cell_type": "markdown",
   "metadata": {},
   "source": [
    "# AutoEncoder Model - Fraud"
   ]
  },
  {
   "cell_type": "code",
   "execution_count": 1,
   "metadata": {
    "ExecuteTime": {
     "end_time": "2019-02-16T11:34:33.859284Z",
     "start_time": "2019-02-16T11:34:33.838340Z"
    }
   },
   "outputs": [],
   "source": [
    "%config IPCompleter.greedy=True\n",
    "#%install_ext https://raw.github.com/cpcloud/ipython-autotime/master/autotime.py\n",
    "#%load_ext autotime"
   ]
  },
  {
   "cell_type": "code",
   "execution_count": 2,
   "metadata": {
    "ExecuteTime": {
     "end_time": "2019-02-16T11:34:51.629321Z",
     "start_time": "2019-02-16T11:34:44.497052Z"
    }
   },
   "outputs": [
    {
     "name": "stderr",
     "output_type": "stream",
     "text": [
      "Using TensorFlow backend.\n"
     ]
    }
   ],
   "source": [
    "import pandas as pd\n",
    "import numpy as np\n",
    "\n",
    "from keras.models import Model\n",
    "from keras.layers import Input,Dense"
   ]
  },
  {
   "cell_type": "code",
   "execution_count": 3,
   "metadata": {
    "ExecuteTime": {
     "end_time": "2019-02-16T11:34:56.843694Z",
     "start_time": "2019-02-16T11:34:53.310147Z"
    }
   },
   "outputs": [],
   "source": [
    "df = pd.read_csv(\"data_afterpca.csv\")"
   ]
  },
  {
   "cell_type": "code",
   "execution_count": 4,
   "metadata": {
    "ExecuteTime": {
     "end_time": "2019-02-16T11:35:00.582117Z",
     "start_time": "2019-02-16T11:35:00.525230Z"
    }
   },
   "outputs": [
    {
     "data": {
      "text/html": [
       "<div>\n",
       "<style scoped>\n",
       "    .dataframe tbody tr th:only-of-type {\n",
       "        vertical-align: middle;\n",
       "    }\n",
       "\n",
       "    .dataframe tbody tr th {\n",
       "        vertical-align: top;\n",
       "    }\n",
       "\n",
       "    .dataframe thead th {\n",
       "        text-align: right;\n",
       "    }\n",
       "</style>\n",
       "<table border=\"1\" class=\"dataframe\">\n",
       "  <thead>\n",
       "    <tr style=\"text-align: right;\">\n",
       "      <th></th>\n",
       "      <th>Unnamed: 0</th>\n",
       "      <th>PC1</th>\n",
       "      <th>PC2</th>\n",
       "      <th>PC3</th>\n",
       "      <th>PC4</th>\n",
       "      <th>PC5</th>\n",
       "      <th>PC6</th>\n",
       "      <th>PC7</th>\n",
       "    </tr>\n",
       "  </thead>\n",
       "  <tbody>\n",
       "    <tr>\n",
       "      <th>0</th>\n",
       "      <td>1</td>\n",
       "      <td>1.504135</td>\n",
       "      <td>1.058194</td>\n",
       "      <td>-0.183572</td>\n",
       "      <td>0.990869</td>\n",
       "      <td>-1.394134</td>\n",
       "      <td>-2.347328</td>\n",
       "      <td>1.509924</td>\n",
       "    </tr>\n",
       "    <tr>\n",
       "      <th>1</th>\n",
       "      <td>2</td>\n",
       "      <td>12.445919</td>\n",
       "      <td>1.269237</td>\n",
       "      <td>-1.254890</td>\n",
       "      <td>5.890350</td>\n",
       "      <td>-9.966817</td>\n",
       "      <td>-12.340175</td>\n",
       "      <td>21.139496</td>\n",
       "    </tr>\n",
       "    <tr>\n",
       "      <th>2</th>\n",
       "      <td>3</td>\n",
       "      <td>-0.004516</td>\n",
       "      <td>-0.030711</td>\n",
       "      <td>-0.027176</td>\n",
       "      <td>0.008399</td>\n",
       "      <td>-0.011642</td>\n",
       "      <td>-0.003273</td>\n",
       "      <td>0.018293</td>\n",
       "    </tr>\n",
       "    <tr>\n",
       "      <th>3</th>\n",
       "      <td>4</td>\n",
       "      <td>0.017084</td>\n",
       "      <td>0.016384</td>\n",
       "      <td>-0.022218</td>\n",
       "      <td>0.034432</td>\n",
       "      <td>-0.031897</td>\n",
       "      <td>-0.047848</td>\n",
       "      <td>0.007923</td>\n",
       "    </tr>\n",
       "    <tr>\n",
       "      <th>4</th>\n",
       "      <td>5</td>\n",
       "      <td>4.184936</td>\n",
       "      <td>2.945893</td>\n",
       "      <td>-0.336065</td>\n",
       "      <td>2.685241</td>\n",
       "      <td>-4.025931</td>\n",
       "      <td>-7.931928</td>\n",
       "      <td>1.829774</td>\n",
       "    </tr>\n",
       "  </tbody>\n",
       "</table>\n",
       "</div>"
      ],
      "text/plain": [
       "   Unnamed: 0        PC1       PC2       PC3       PC4       PC5        PC6  \\\n",
       "0           1   1.504135  1.058194 -0.183572  0.990869 -1.394134  -2.347328   \n",
       "1           2  12.445919  1.269237 -1.254890  5.890350 -9.966817 -12.340175   \n",
       "2           3  -0.004516 -0.030711 -0.027176  0.008399 -0.011642  -0.003273   \n",
       "3           4   0.017084  0.016384 -0.022218  0.034432 -0.031897  -0.047848   \n",
       "4           5   4.184936  2.945893 -0.336065  2.685241 -4.025931  -7.931928   \n",
       "\n",
       "         PC7  \n",
       "0   1.509924  \n",
       "1  21.139496  \n",
       "2   0.018293  \n",
       "3   0.007923  \n",
       "4   1.829774  "
      ]
     },
     "execution_count": 4,
     "metadata": {},
     "output_type": "execute_result"
    }
   ],
   "source": [
    "df.head()"
   ]
  },
  {
   "cell_type": "code",
   "execution_count": 5,
   "metadata": {
    "ExecuteTime": {
     "end_time": "2019-02-16T11:35:04.671216Z",
     "start_time": "2019-02-16T11:35:04.614811Z"
    }
   },
   "outputs": [
    {
     "data": {
      "text/html": [
       "<div>\n",
       "<style scoped>\n",
       "    .dataframe tbody tr th:only-of-type {\n",
       "        vertical-align: middle;\n",
       "    }\n",
       "\n",
       "    .dataframe tbody tr th {\n",
       "        vertical-align: top;\n",
       "    }\n",
       "\n",
       "    .dataframe thead th {\n",
       "        text-align: right;\n",
       "    }\n",
       "</style>\n",
       "<table border=\"1\" class=\"dataframe\">\n",
       "  <thead>\n",
       "    <tr style=\"text-align: right;\">\n",
       "      <th></th>\n",
       "      <th>PC1</th>\n",
       "      <th>PC2</th>\n",
       "      <th>PC3</th>\n",
       "      <th>PC4</th>\n",
       "      <th>PC5</th>\n",
       "      <th>PC6</th>\n",
       "      <th>PC7</th>\n",
       "    </tr>\n",
       "  </thead>\n",
       "  <tbody>\n",
       "    <tr>\n",
       "      <th>0</th>\n",
       "      <td>1.504135</td>\n",
       "      <td>1.058194</td>\n",
       "      <td>-0.183572</td>\n",
       "      <td>0.990869</td>\n",
       "      <td>-1.394134</td>\n",
       "      <td>-2.347328</td>\n",
       "      <td>1.509924</td>\n",
       "    </tr>\n",
       "    <tr>\n",
       "      <th>1</th>\n",
       "      <td>12.445919</td>\n",
       "      <td>1.269237</td>\n",
       "      <td>-1.254890</td>\n",
       "      <td>5.890350</td>\n",
       "      <td>-9.966817</td>\n",
       "      <td>-12.340175</td>\n",
       "      <td>21.139496</td>\n",
       "    </tr>\n",
       "    <tr>\n",
       "      <th>2</th>\n",
       "      <td>-0.004516</td>\n",
       "      <td>-0.030711</td>\n",
       "      <td>-0.027176</td>\n",
       "      <td>0.008399</td>\n",
       "      <td>-0.011642</td>\n",
       "      <td>-0.003273</td>\n",
       "      <td>0.018293</td>\n",
       "    </tr>\n",
       "    <tr>\n",
       "      <th>3</th>\n",
       "      <td>0.017084</td>\n",
       "      <td>0.016384</td>\n",
       "      <td>-0.022218</td>\n",
       "      <td>0.034432</td>\n",
       "      <td>-0.031897</td>\n",
       "      <td>-0.047848</td>\n",
       "      <td>0.007923</td>\n",
       "    </tr>\n",
       "    <tr>\n",
       "      <th>4</th>\n",
       "      <td>4.184936</td>\n",
       "      <td>2.945893</td>\n",
       "      <td>-0.336065</td>\n",
       "      <td>2.685241</td>\n",
       "      <td>-4.025931</td>\n",
       "      <td>-7.931928</td>\n",
       "      <td>1.829774</td>\n",
       "    </tr>\n",
       "  </tbody>\n",
       "</table>\n",
       "</div>"
      ],
      "text/plain": [
       "         PC1       PC2       PC3       PC4       PC5        PC6        PC7\n",
       "0   1.504135  1.058194 -0.183572  0.990869 -1.394134  -2.347328   1.509924\n",
       "1  12.445919  1.269237 -1.254890  5.890350 -9.966817 -12.340175  21.139496\n",
       "2  -0.004516 -0.030711 -0.027176  0.008399 -0.011642  -0.003273   0.018293\n",
       "3   0.017084  0.016384 -0.022218  0.034432 -0.031897  -0.047848   0.007923\n",
       "4   4.184936  2.945893 -0.336065  2.685241 -4.025931  -7.931928   1.829774"
      ]
     },
     "execution_count": 5,
     "metadata": {},
     "output_type": "execute_result"
    }
   ],
   "source": [
    "# Take the top 7 PCs that cover ~94% of variance\n",
    "train_data = df.iloc[:, 1:8]\n",
    "train_data.head()"
   ]
  },
  {
   "cell_type": "code",
   "execution_count": 6,
   "metadata": {
    "ExecuteTime": {
     "end_time": "2019-02-16T11:35:09.328082Z",
     "start_time": "2019-02-16T11:35:08.507894Z"
    }
   },
   "outputs": [
    {
     "data": {
      "text/html": [
       "<div>\n",
       "<style scoped>\n",
       "    .dataframe tbody tr th:only-of-type {\n",
       "        vertical-align: middle;\n",
       "    }\n",
       "\n",
       "    .dataframe tbody tr th {\n",
       "        vertical-align: top;\n",
       "    }\n",
       "\n",
       "    .dataframe thead th {\n",
       "        text-align: right;\n",
       "    }\n",
       "</style>\n",
       "<table border=\"1\" class=\"dataframe\">\n",
       "  <thead>\n",
       "    <tr style=\"text-align: right;\">\n",
       "      <th></th>\n",
       "      <th>PC1</th>\n",
       "      <th>PC2</th>\n",
       "      <th>PC3</th>\n",
       "      <th>PC4</th>\n",
       "      <th>PC5</th>\n",
       "      <th>PC6</th>\n",
       "      <th>PC7</th>\n",
       "    </tr>\n",
       "  </thead>\n",
       "  <tbody>\n",
       "    <tr>\n",
       "      <th>count</th>\n",
       "      <td>1.070994e+06</td>\n",
       "      <td>1.070994e+06</td>\n",
       "      <td>1.070994e+06</td>\n",
       "      <td>1.070994e+06</td>\n",
       "      <td>1.070994e+06</td>\n",
       "      <td>1.070994e+06</td>\n",
       "      <td>1.070994e+06</td>\n",
       "    </tr>\n",
       "    <tr>\n",
       "      <th>mean</th>\n",
       "      <td>9.691209e-18</td>\n",
       "      <td>-2.882190e-16</td>\n",
       "      <td>6.242302e-17</td>\n",
       "      <td>-3.539760e-17</td>\n",
       "      <td>6.093075e-17</td>\n",
       "      <td>-1.701545e-17</td>\n",
       "      <td>-2.371589e-16</td>\n",
       "    </tr>\n",
       "    <tr>\n",
       "      <th>std</th>\n",
       "      <td>1.000000e+00</td>\n",
       "      <td>1.000000e+00</td>\n",
       "      <td>1.000000e+00</td>\n",
       "      <td>1.000000e+00</td>\n",
       "      <td>1.000000e+00</td>\n",
       "      <td>1.000000e+00</td>\n",
       "      <td>1.000000e+00</td>\n",
       "    </tr>\n",
       "    <tr>\n",
       "      <th>min</th>\n",
       "      <td>-2.445340e-02</td>\n",
       "      <td>-8.648376e+02</td>\n",
       "      <td>-1.002181e+03</td>\n",
       "      <td>-8.043899e+02</td>\n",
       "      <td>-6.942209e+02</td>\n",
       "      <td>-5.229060e+02</td>\n",
       "      <td>-6.559611e+02</td>\n",
       "    </tr>\n",
       "    <tr>\n",
       "      <th>25%</th>\n",
       "      <td>-1.385095e-02</td>\n",
       "      <td>-2.946766e-03</td>\n",
       "      <td>-9.230926e-03</td>\n",
       "      <td>-4.206762e-03</td>\n",
       "      <td>-2.260363e-03</td>\n",
       "      <td>2.135409e-03</td>\n",
       "      <td>-1.010949e-03</td>\n",
       "    </tr>\n",
       "    <tr>\n",
       "      <th>50%</th>\n",
       "      <td>-9.397000e-03</td>\n",
       "      <td>3.120021e-03</td>\n",
       "      <td>3.300427e-03</td>\n",
       "      <td>-9.709406e-04</td>\n",
       "      <td>-1.719305e-04</td>\n",
       "      <td>6.013621e-03</td>\n",
       "      <td>3.145017e-03</td>\n",
       "    </tr>\n",
       "    <tr>\n",
       "      <th>75%</th>\n",
       "      <td>-5.616067e-03</td>\n",
       "      <td>7.825871e-03</td>\n",
       "      <td>9.814935e-03</td>\n",
       "      <td>3.163786e-03</td>\n",
       "      <td>2.282412e-03</td>\n",
       "      <td>9.651947e-03</td>\n",
       "      <td>7.958117e-03</td>\n",
       "    </tr>\n",
       "    <tr>\n",
       "      <th>max</th>\n",
       "      <td>5.817516e+02</td>\n",
       "      <td>4.345353e+02</td>\n",
       "      <td>5.143290e+01</td>\n",
       "      <td>4.123705e+02</td>\n",
       "      <td>5.641676e+01</td>\n",
       "      <td>7.318308e+01</td>\n",
       "      <td>8.090754e+01</td>\n",
       "    </tr>\n",
       "  </tbody>\n",
       "</table>\n",
       "</div>"
      ],
      "text/plain": [
       "                PC1           PC2           PC3           PC4           PC5  \\\n",
       "count  1.070994e+06  1.070994e+06  1.070994e+06  1.070994e+06  1.070994e+06   \n",
       "mean   9.691209e-18 -2.882190e-16  6.242302e-17 -3.539760e-17  6.093075e-17   \n",
       "std    1.000000e+00  1.000000e+00  1.000000e+00  1.000000e+00  1.000000e+00   \n",
       "min   -2.445340e-02 -8.648376e+02 -1.002181e+03 -8.043899e+02 -6.942209e+02   \n",
       "25%   -1.385095e-02 -2.946766e-03 -9.230926e-03 -4.206762e-03 -2.260363e-03   \n",
       "50%   -9.397000e-03  3.120021e-03  3.300427e-03 -9.709406e-04 -1.719305e-04   \n",
       "75%   -5.616067e-03  7.825871e-03  9.814935e-03  3.163786e-03  2.282412e-03   \n",
       "max    5.817516e+02  4.345353e+02  5.143290e+01  4.123705e+02  5.641676e+01   \n",
       "\n",
       "                PC6           PC7  \n",
       "count  1.070994e+06  1.070994e+06  \n",
       "mean  -1.701545e-17 -2.371589e-16  \n",
       "std    1.000000e+00  1.000000e+00  \n",
       "min   -5.229060e+02 -6.559611e+02  \n",
       "25%    2.135409e-03 -1.010949e-03  \n",
       "50%    6.013621e-03  3.145017e-03  \n",
       "75%    9.651947e-03  7.958117e-03  \n",
       "max    7.318308e+01  8.090754e+01  "
      ]
     },
     "execution_count": 6,
     "metadata": {},
     "output_type": "execute_result"
    }
   ],
   "source": [
    "train_data.describe()"
   ]
  },
  {
   "cell_type": "code",
   "execution_count": 7,
   "metadata": {
    "ExecuteTime": {
     "end_time": "2019-02-16T11:35:12.164288Z",
     "start_time": "2019-02-16T11:35:12.160299Z"
    }
   },
   "outputs": [],
   "source": [
    "train = train_data.values"
   ]
  },
  {
   "cell_type": "code",
   "execution_count": 8,
   "metadata": {
    "ExecuteTime": {
     "end_time": "2019-02-16T11:35:15.467165Z",
     "start_time": "2019-02-16T11:35:15.309339Z"
    }
   },
   "outputs": [
    {
     "name": "stdout",
     "output_type": "stream",
     "text": [
      "WARNING:tensorflow:From /anaconda/lib/python3.7/site-packages/tensorflow/python/framework/op_def_library.py:263: colocate_with (from tensorflow.python.framework.ops) is deprecated and will be removed in a future version.\n",
      "Instructions for updating:\n",
      "Colocations handled automatically by placer.\n"
     ]
    }
   ],
   "source": [
    "input_size = 7\n",
    "hidden_size = 4\n",
    "code_size = 2\n",
    "\n",
    "#autoencoder\n",
    "input_layer = Input(shape=(input_size,)) \n",
    "hidden_1 = Dense(hidden_size, activation='relu')(input_layer)\n",
    "code = Dense(code_size,activation='relu')(hidden_1)\n",
    "hidden_2 = Dense(hidden_size, activation='relu')(code)\n",
    "output_layer = Dense(input_size, activation='tanh')(hidden_2)\n",
    "\n",
    "autoencoder = Model(input_layer, output_layer)\n",
    "autoencoder.compile(optimizer='adam', loss='mean_squared_error', metrics=['accuracy'])"
   ]
  },
  {
   "cell_type": "code",
   "execution_count": 9,
   "metadata": {
    "ExecuteTime": {
     "end_time": "2019-02-16T16:52:36.798537Z",
     "start_time": "2019-02-16T12:06:46.418195Z"
    },
    "scrolled": false
   },
   "outputs": [
    {
     "name": "stdout",
     "output_type": "stream",
     "text": [
      "WARNING:tensorflow:From /anaconda/lib/python3.7/site-packages/tensorflow/python/ops/math_ops.py:3066: to_int32 (from tensorflow.python.ops.math_ops) is deprecated and will be removed in a future version.\n",
      "Instructions for updating:\n",
      "Use tf.cast instead.\n",
      "Epoch 1/10\n",
      "1070994/1070994 [==============================] - 49s 46us/step - loss: 0.9942 - acc: 0.2955\n",
      "Epoch 2/10\n",
      "1070994/1070994 [==============================] - 45s 42us/step - loss: 0.9925 - acc: 0.3381\n",
      "Epoch 3/10\n",
      "1070994/1070994 [==============================] - 48s 45us/step - loss: 0.9923 - acc: 0.3166\n",
      "Epoch 4/10\n",
      "1070994/1070994 [==============================] - 45s 42us/step - loss: 0.9919 - acc: 0.3122\n",
      "Epoch 5/10\n",
      "1070994/1070994 [==============================] - 47s 44us/step - loss: 0.9919 - acc: 0.3176\n",
      "Epoch 6/10\n",
      "1070994/1070994 [==============================] - 49s 46us/step - loss: 0.9918 - acc: 0.3735\n",
      "Epoch 7/10\n",
      "1070994/1070994 [==============================] - 48s 44us/step - loss: 0.9923 - acc: 0.3692\n",
      "Epoch 8/10\n",
      "1070994/1070994 [==============================] - 47s 44us/step - loss: 0.9918 - acc: 0.3826\n",
      "Epoch 9/10\n",
      "1070994/1070994 [==============================] - 53s 49us/step - loss: 0.9919 - acc: 0.3791\n",
      "Epoch 10/10\n",
      "1070994/1070994 [==============================] - 53s 49us/step - loss: 0.9917 - acc: 0.3645\n"
     ]
    }
   ],
   "source": [
    "output=autoencoder.fit(train,train, epochs = 10)"
   ]
  },
  {
   "cell_type": "code",
   "execution_count": 10,
   "metadata": {
    "ExecuteTime": {
     "end_time": "2019-02-16T16:53:11.122213Z",
     "start_time": "2019-02-16T16:52:36.801530Z"
    }
   },
   "outputs": [],
   "source": [
    "ans = autoencoder.predict(train)"
   ]
  },
  {
   "cell_type": "code",
   "execution_count": 37,
   "metadata": {},
   "outputs": [
    {
     "data": {
      "text/html": [
       "<div>\n",
       "<style scoped>\n",
       "    .dataframe tbody tr th:only-of-type {\n",
       "        vertical-align: middle;\n",
       "    }\n",
       "\n",
       "    .dataframe tbody tr th {\n",
       "        vertical-align: top;\n",
       "    }\n",
       "\n",
       "    .dataframe thead th {\n",
       "        text-align: right;\n",
       "    }\n",
       "</style>\n",
       "<table border=\"1\" class=\"dataframe\">\n",
       "  <thead>\n",
       "    <tr style=\"text-align: right;\">\n",
       "      <th></th>\n",
       "      <th>0</th>\n",
       "      <th>1</th>\n",
       "      <th>2</th>\n",
       "      <th>3</th>\n",
       "      <th>4</th>\n",
       "      <th>5</th>\n",
       "      <th>6</th>\n",
       "    </tr>\n",
       "  </thead>\n",
       "  <tbody>\n",
       "    <tr>\n",
       "      <th>0</th>\n",
       "      <td>0.390684</td>\n",
       "      <td>0.284888</td>\n",
       "      <td>-0.780344</td>\n",
       "      <td>0.575194</td>\n",
       "      <td>-0.113759</td>\n",
       "      <td>-0.768178</td>\n",
       "      <td>-0.863647</td>\n",
       "    </tr>\n",
       "    <tr>\n",
       "      <th>1</th>\n",
       "      <td>0.993859</td>\n",
       "      <td>-0.984338</td>\n",
       "      <td>-0.999029</td>\n",
       "      <td>0.984009</td>\n",
       "      <td>-0.447757</td>\n",
       "      <td>-0.771232</td>\n",
       "      <td>-0.998182</td>\n",
       "    </tr>\n",
       "    <tr>\n",
       "      <th>2</th>\n",
       "      <td>0.019498</td>\n",
       "      <td>-0.032883</td>\n",
       "      <td>-0.015050</td>\n",
       "      <td>0.011839</td>\n",
       "      <td>-0.000364</td>\n",
       "      <td>0.011497</td>\n",
       "      <td>-0.008988</td>\n",
       "    </tr>\n",
       "    <tr>\n",
       "      <th>3</th>\n",
       "      <td>0.005549</td>\n",
       "      <td>0.002658</td>\n",
       "      <td>-0.040651</td>\n",
       "      <td>0.030126</td>\n",
       "      <td>-0.011078</td>\n",
       "      <td>-0.031131</td>\n",
       "      <td>-0.052952</td>\n",
       "    </tr>\n",
       "    <tr>\n",
       "      <th>4</th>\n",
       "      <td>0.969459</td>\n",
       "      <td>0.861942</td>\n",
       "      <td>-0.999259</td>\n",
       "      <td>0.981922</td>\n",
       "      <td>-0.042868</td>\n",
       "      <td>-0.999515</td>\n",
       "      <td>-0.999891</td>\n",
       "    </tr>\n",
       "  </tbody>\n",
       "</table>\n",
       "</div>"
      ],
      "text/plain": [
       "          0         1         2         3         4         5         6\n",
       "0  0.390684  0.284888 -0.780344  0.575194 -0.113759 -0.768178 -0.863647\n",
       "1  0.993859 -0.984338 -0.999029  0.984009 -0.447757 -0.771232 -0.998182\n",
       "2  0.019498 -0.032883 -0.015050  0.011839 -0.000364  0.011497 -0.008988\n",
       "3  0.005549  0.002658 -0.040651  0.030126 -0.011078 -0.031131 -0.052952\n",
       "4  0.969459  0.861942 -0.999259  0.981922 -0.042868 -0.999515 -0.999891"
      ]
     },
     "execution_count": 37,
     "metadata": {},
     "output_type": "execute_result"
    }
   ],
   "source": [
    "ans.head()"
   ]
  },
  {
   "cell_type": "code",
   "execution_count": 11,
   "metadata": {
    "ExecuteTime": {
     "end_time": "2019-02-16T16:53:11.130217Z",
     "start_time": "2019-02-16T16:53:11.124231Z"
    }
   },
   "outputs": [],
   "source": [
    "ans = pd.DataFrame(ans)"
   ]
  },
  {
   "cell_type": "code",
   "execution_count": 12,
   "metadata": {
    "ExecuteTime": {
     "end_time": "2019-02-17T00:03:13.585659Z",
     "start_time": "2019-02-17T00:02:56.223864Z"
    }
   },
   "outputs": [],
   "source": [
    "ans.to_csv('ans_Reconstructed.csv',index=False)"
   ]
  },
  {
   "cell_type": "code",
   "execution_count": 13,
   "metadata": {
    "ExecuteTime": {
     "end_time": "2019-02-17T00:01:36.634655Z",
     "start_time": "2019-02-17T00:01:36.619695Z"
    }
   },
   "outputs": [
    {
     "data": {
      "text/plain": [
       "0.0038436120375990868"
      ]
     },
     "execution_count": 13,
     "metadata": {},
     "output_type": "execute_result"
    }
   ],
   "source": [
    "ans.iloc[:,2].mean()\n"
   ]
  },
  {
   "cell_type": "code",
   "execution_count": 14,
   "metadata": {
    "ExecuteTime": {
     "end_time": "2019-02-17T00:01:39.219496Z",
     "start_time": "2019-02-17T00:01:39.209525Z"
    }
   },
   "outputs": [
    {
     "data": {
      "text/plain": [
       "6.242302334521171e-17"
      ]
     },
     "execution_count": 14,
     "metadata": {},
     "output_type": "execute_result"
    }
   ],
   "source": [
    "pd.DataFrame(train).iloc[:,2].mean()"
   ]
  },
  {
   "cell_type": "code",
   "execution_count": 15,
   "metadata": {
    "ExecuteTime": {
     "end_time": "2019-02-16T16:53:13.074447Z",
     "start_time": "2019-02-16T16:53:11.135203Z"
    },
    "scrolled": false
   },
   "outputs": [
    {
     "data": {
      "text/plain": [
       "0           8.132301\n",
       "1          62.093518\n",
       "2           0.095082\n",
       "3           0.146413\n",
       "4          21.411083\n",
       "5           2.670283\n",
       "6          10.931473\n",
       "7           0.421298\n",
       "8           0.211763\n",
       "9           0.286654\n",
       "10          0.471351\n",
       "11          0.082681\n",
       "12          0.140703\n",
       "13          0.135113\n",
       "14          0.374993\n",
       "15          0.366302\n",
       "16          0.366302\n",
       "17          0.366302\n",
       "18          0.366302\n",
       "19          0.366302\n",
       "20          0.366302\n",
       "21          0.366302\n",
       "22          0.366178\n",
       "23          0.362059\n",
       "24          0.362059\n",
       "25          0.372269\n",
       "26          0.372269\n",
       "27          0.372269\n",
       "28          0.372269\n",
       "29          0.371525\n",
       "             ...    \n",
       "1070964     0.033257\n",
       "1070965     0.097117\n",
       "1070966     0.038217\n",
       "1070967     0.105347\n",
       "1070968     0.040501\n",
       "1070969     0.041413\n",
       "1070970     0.042226\n",
       "1070971     0.067959\n",
       "1070972     0.036391\n",
       "1070973     0.046041\n",
       "1070974     0.038058\n",
       "1070975     0.046168\n",
       "1070976     0.060653\n",
       "1070977     0.043492\n",
       "1070978     0.033110\n",
       "1070979     0.038631\n",
       "1070980     0.039202\n",
       "1070981     0.045005\n",
       "1070982     0.063589\n",
       "1070983     0.037409\n",
       "1070984     0.033249\n",
       "1070985     0.038082\n",
       "1070986     0.036613\n",
       "1070987     0.031935\n",
       "1070988     0.036167\n",
       "1070989     0.035525\n",
       "1070990     0.044572\n",
       "1070991     0.039858\n",
       "1070992     0.042529\n",
       "1070993     0.031157\n",
       "Length: 1070994, dtype: float64"
      ]
     },
     "execution_count": 15,
     "metadata": {},
     "output_type": "execute_result"
    }
   ],
   "source": [
    "#n=1\n",
    "manhattan = (ans - pd.DataFrame(train)).abs()\n",
    "manhattan_score = manhattan.sum(axis = 1)\n",
    "manhattan_score"
   ]
  },
  {
   "cell_type": "code",
   "execution_count": 17,
   "metadata": {
    "ExecuteTime": {
     "end_time": "2019-02-16T16:53:13.551795Z",
     "start_time": "2019-02-16T16:53:13.077416Z"
    },
    "scrolled": true
   },
   "outputs": [
    {
     "data": {
      "text/plain": [
       "0           3.483334\n",
       "1          29.578635\n",
       "2           0.042777\n",
       "3           0.071404\n",
       "4           9.484378\n",
       "5           1.118122\n",
       "6           4.700313\n",
       "7           0.198640\n",
       "8           0.089110\n",
       "9           0.122080\n",
       "10          0.201328\n",
       "11          0.034650\n",
       "12          0.058398\n",
       "13          0.056032\n",
       "14          0.159323\n",
       "15          0.155594\n",
       "16          0.155594\n",
       "17          0.155594\n",
       "18          0.155594\n",
       "19          0.155594\n",
       "20          0.155594\n",
       "21          0.155594\n",
       "22          0.155541\n",
       "23          0.153778\n",
       "24          0.153778\n",
       "25          0.158152\n",
       "26          0.158152\n",
       "27          0.158152\n",
       "28          0.158152\n",
       "29          0.157833\n",
       "             ...    \n",
       "1070964     0.013982\n",
       "1070965     0.049357\n",
       "1070966     0.018105\n",
       "1070967     0.047071\n",
       "1070968     0.019115\n",
       "1070969     0.017115\n",
       "1070970     0.020793\n",
       "1070971     0.029868\n",
       "1070972     0.016911\n",
       "1070973     0.021386\n",
       "1070974     0.016092\n",
       "1070975     0.021699\n",
       "1070976     0.027480\n",
       "1070977     0.019720\n",
       "1070978     0.014228\n",
       "1070979     0.019201\n",
       "1070980     0.019462\n",
       "1070981     0.021402\n",
       "1070982     0.030219\n",
       "1070983     0.017170\n",
       "1070984     0.014399\n",
       "1070985     0.018451\n",
       "1070986     0.014977\n",
       "1070987     0.013950\n",
       "1070988     0.015723\n",
       "1070989     0.015656\n",
       "1070990     0.019081\n",
       "1070991     0.018408\n",
       "1070992     0.019299\n",
       "1070993     0.013539\n",
       "Length: 1070994, dtype: float64"
      ]
     },
     "execution_count": 17,
     "metadata": {},
     "output_type": "execute_result"
    }
   ],
   "source": [
    "#n=2\n",
    "euclidean = (((ans - pd.DataFrame(train)).abs())**2).sum(axis=1)\n",
    "euclidean_score = euclidean**(1/2)\n",
    "euclidean_score"
   ]
  },
  {
   "cell_type": "code",
   "execution_count": 18,
   "metadata": {
    "ExecuteTime": {
     "end_time": "2019-02-16T16:53:13.789066Z",
     "start_time": "2019-02-16T16:53:13.554791Z"
    }
   },
   "outputs": [],
   "source": [
    "manhattan_score=pd.DataFrame(manhattan_score)\n",
    "euclidean_score=pd.DataFrame(euclidean_score)\n",
    "fraud_score_AE= pd.concat([manhattan_score,euclidean_score], axis=1)\n",
    "fraud_score_AE.columns=['Manhattan Score','Euclidean Score']"
   ]
  },
  {
   "cell_type": "code",
   "execution_count": 19,
   "metadata": {
    "ExecuteTime": {
     "end_time": "2019-02-16T16:53:13.973333Z",
     "start_time": "2019-02-16T16:53:13.791902Z"
    }
   },
   "outputs": [],
   "source": [
    "fraud_score_AE.insert(0,'Record',fraud_score_AE.index+1)"
   ]
  },
  {
   "cell_type": "code",
   "execution_count": 20,
   "metadata": {
    "ExecuteTime": {
     "end_time": "2019-02-16T16:53:14.566080Z",
     "start_time": "2019-02-16T16:53:13.976166Z"
    }
   },
   "outputs": [
    {
     "data": {
      "text/html": [
       "<div>\n",
       "<style scoped>\n",
       "    .dataframe tbody tr th:only-of-type {\n",
       "        vertical-align: middle;\n",
       "    }\n",
       "\n",
       "    .dataframe tbody tr th {\n",
       "        vertical-align: top;\n",
       "    }\n",
       "\n",
       "    .dataframe thead th {\n",
       "        text-align: right;\n",
       "    }\n",
       "</style>\n",
       "<table border=\"1\" class=\"dataframe\">\n",
       "  <thead>\n",
       "    <tr style=\"text-align: right;\">\n",
       "      <th></th>\n",
       "      <th>Record</th>\n",
       "      <th>Manhattan Score</th>\n",
       "      <th>Euclidean Score</th>\n",
       "    </tr>\n",
       "  </thead>\n",
       "  <tbody>\n",
       "    <tr>\n",
       "      <th>count</th>\n",
       "      <td>1.070994e+06</td>\n",
       "      <td>1.070994e+06</td>\n",
       "      <td>1.070994e+06</td>\n",
       "    </tr>\n",
       "    <tr>\n",
       "      <th>mean</th>\n",
       "      <td>5.354975e+05</td>\n",
       "      <td>7.769693e-02</td>\n",
       "      <td>3.571049e-02</td>\n",
       "    </tr>\n",
       "    <tr>\n",
       "      <th>std</th>\n",
       "      <td>3.091695e+05</td>\n",
       "      <td>5.910232e+00</td>\n",
       "      <td>2.634514e+00</td>\n",
       "    </tr>\n",
       "    <tr>\n",
       "      <th>min</th>\n",
       "      <td>1.000000e+00</td>\n",
       "      <td>2.044649e-03</td>\n",
       "      <td>9.051498e-04</td>\n",
       "    </tr>\n",
       "    <tr>\n",
       "      <th>25%</th>\n",
       "      <td>2.677492e+05</td>\n",
       "      <td>2.085101e-02</td>\n",
       "      <td>9.609768e-03</td>\n",
       "    </tr>\n",
       "    <tr>\n",
       "      <th>50%</th>\n",
       "      <td>5.354975e+05</td>\n",
       "      <td>3.173298e-02</td>\n",
       "      <td>1.444632e-02</td>\n",
       "    </tr>\n",
       "    <tr>\n",
       "      <th>75%</th>\n",
       "      <td>8.032458e+05</td>\n",
       "      <td>4.217578e-02</td>\n",
       "      <td>1.979830e-02</td>\n",
       "    </tr>\n",
       "    <tr>\n",
       "      <th>max</th>\n",
       "      <td>1.070994e+06</td>\n",
       "      <td>3.266553e+03</td>\n",
       "      <td>1.491655e+03</td>\n",
       "    </tr>\n",
       "  </tbody>\n",
       "</table>\n",
       "</div>"
      ],
      "text/plain": [
       "             Record  Manhattan Score  Euclidean Score\n",
       "count  1.070994e+06     1.070994e+06     1.070994e+06\n",
       "mean   5.354975e+05     7.769693e-02     3.571049e-02\n",
       "std    3.091695e+05     5.910232e+00     2.634514e+00\n",
       "min    1.000000e+00     2.044649e-03     9.051498e-04\n",
       "25%    2.677492e+05     2.085101e-02     9.609768e-03\n",
       "50%    5.354975e+05     3.173298e-02     1.444632e-02\n",
       "75%    8.032458e+05     4.217578e-02     1.979830e-02\n",
       "max    1.070994e+06     3.266553e+03     1.491655e+03"
      ]
     },
     "execution_count": 20,
     "metadata": {},
     "output_type": "execute_result"
    }
   ],
   "source": [
    "fraud_score_AE.describe()"
   ]
  },
  {
   "cell_type": "code",
   "execution_count": 21,
   "metadata": {
    "ExecuteTime": {
     "end_time": "2019-02-16T16:53:21.546295Z",
     "start_time": "2019-02-16T16:53:14.569065Z"
    }
   },
   "outputs": [],
   "source": [
    "fraud_score_AE.to_csv('fraud_score_AE.csv',index=False)"
   ]
  },
  {
   "cell_type": "code",
   "execution_count": 22,
   "metadata": {
    "ExecuteTime": {
     "end_time": "2019-02-17T00:20:57.200120Z",
     "start_time": "2019-02-17T00:20:57.174216Z"
    }
   },
   "outputs": [
    {
     "data": {
      "text/html": [
       "<div>\n",
       "<style scoped>\n",
       "    .dataframe tbody tr th:only-of-type {\n",
       "        vertical-align: middle;\n",
       "    }\n",
       "\n",
       "    .dataframe tbody tr th {\n",
       "        vertical-align: top;\n",
       "    }\n",
       "\n",
       "    .dataframe thead th {\n",
       "        text-align: right;\n",
       "    }\n",
       "</style>\n",
       "<table border=\"1\" class=\"dataframe\">\n",
       "  <thead>\n",
       "    <tr style=\"text-align: right;\">\n",
       "      <th></th>\n",
       "      <th>Record</th>\n",
       "      <th>Manhattan Score</th>\n",
       "      <th>Euclidean Score</th>\n",
       "    </tr>\n",
       "  </thead>\n",
       "  <tbody>\n",
       "    <tr>\n",
       "      <th>0</th>\n",
       "      <td>1</td>\n",
       "      <td>8.132301</td>\n",
       "      <td>3.483334</td>\n",
       "    </tr>\n",
       "    <tr>\n",
       "      <th>1</th>\n",
       "      <td>2</td>\n",
       "      <td>62.093518</td>\n",
       "      <td>29.578635</td>\n",
       "    </tr>\n",
       "    <tr>\n",
       "      <th>2</th>\n",
       "      <td>3</td>\n",
       "      <td>0.095082</td>\n",
       "      <td>0.042777</td>\n",
       "    </tr>\n",
       "    <tr>\n",
       "      <th>3</th>\n",
       "      <td>4</td>\n",
       "      <td>0.146413</td>\n",
       "      <td>0.071404</td>\n",
       "    </tr>\n",
       "    <tr>\n",
       "      <th>4</th>\n",
       "      <td>5</td>\n",
       "      <td>21.411083</td>\n",
       "      <td>9.484378</td>\n",
       "    </tr>\n",
       "  </tbody>\n",
       "</table>\n",
       "</div>"
      ],
      "text/plain": [
       "   Record  Manhattan Score  Euclidean Score\n",
       "0       1         8.132301         3.483334\n",
       "1       2        62.093518        29.578635\n",
       "2       3         0.095082         0.042777\n",
       "3       4         0.146413         0.071404\n",
       "4       5        21.411083         9.484378"
      ]
     },
     "execution_count": 22,
     "metadata": {},
     "output_type": "execute_result"
    }
   ],
   "source": [
    "fraud_score_AE.head()"
   ]
  },
  {
   "cell_type": "code",
   "execution_count": null,
   "metadata": {
    "ExecuteTime": {
     "end_time": "2019-02-17T07:15:19.529817Z",
     "start_time": "2019-02-17T07:15:19.525831Z"
    }
   },
   "outputs": [],
   "source": [
    "#dfNY = pd.read_csv(\"NY property data.csv\")"
   ]
  },
  {
   "cell_type": "code",
   "execution_count": null,
   "metadata": {
    "ExecuteTime": {
     "end_time": "2019-02-17T08:23:07.975319Z",
     "start_time": "2019-02-17T08:23:07.943398Z"
    }
   },
   "outputs": [],
   "source": [
    "#eucScr = fraud_score_AE.drop('Manhattan Score', axis=1)"
   ]
  },
  {
   "cell_type": "code",
   "execution_count": null,
   "metadata": {
    "ExecuteTime": {
     "end_time": "2019-02-17T08:23:14.767139Z",
     "start_time": "2019-02-17T08:23:14.757168Z"
    },
    "scrolled": true
   },
   "outputs": [],
   "source": [
    "#eucScr.head()"
   ]
  },
  {
   "cell_type": "code",
   "execution_count": 23,
   "metadata": {
    "ExecuteTime": {
     "end_time": "2019-02-17T08:58:11.961981Z",
     "start_time": "2019-02-17T08:58:11.332574Z"
    }
   },
   "outputs": [],
   "source": [
    "#bins=eucScr.shape[0]\n",
    "#colName='Euclidean Score'\n",
    "#eucScr['Euclidean Rank'] = eucScr['Euclidean Score'].rank(ascending=1)\n",
    "fraud_score_AE['Euclidean Rank'] = fraud_score_AE['Euclidean Score'].rank(ascending=1)\n",
    "fraud_score_AE['Manhattan Rank'] = fraud_score_AE['Manhattan Score'].rank(ascending=1)"
   ]
  },
  {
   "cell_type": "code",
   "execution_count": 24,
   "metadata": {
    "ExecuteTime": {
     "end_time": "2019-02-17T08:58:14.766250Z",
     "start_time": "2019-02-17T08:58:14.754281Z"
    },
    "scrolled": true
   },
   "outputs": [
    {
     "data": {
      "text/html": [
       "<div>\n",
       "<style scoped>\n",
       "    .dataframe tbody tr th:only-of-type {\n",
       "        vertical-align: middle;\n",
       "    }\n",
       "\n",
       "    .dataframe tbody tr th {\n",
       "        vertical-align: top;\n",
       "    }\n",
       "\n",
       "    .dataframe thead th {\n",
       "        text-align: right;\n",
       "    }\n",
       "</style>\n",
       "<table border=\"1\" class=\"dataframe\">\n",
       "  <thead>\n",
       "    <tr style=\"text-align: right;\">\n",
       "      <th></th>\n",
       "      <th>Record</th>\n",
       "      <th>Manhattan Score</th>\n",
       "      <th>Euclidean Score</th>\n",
       "      <th>Euclidean Rank</th>\n",
       "      <th>Manhattan Rank</th>\n",
       "    </tr>\n",
       "  </thead>\n",
       "  <tbody>\n",
       "    <tr>\n",
       "      <th>0</th>\n",
       "      <td>1</td>\n",
       "      <td>8.132301</td>\n",
       "      <td>3.483334</td>\n",
       "      <td>1070451.0</td>\n",
       "      <td>1070507.0</td>\n",
       "    </tr>\n",
       "    <tr>\n",
       "      <th>1</th>\n",
       "      <td>2</td>\n",
       "      <td>62.093518</td>\n",
       "      <td>29.578635</td>\n",
       "      <td>1070913.0</td>\n",
       "      <td>1070914.0</td>\n",
       "    </tr>\n",
       "    <tr>\n",
       "      <th>2</th>\n",
       "      <td>3</td>\n",
       "      <td>0.095082</td>\n",
       "      <td>0.042777</td>\n",
       "      <td>1005689.0</td>\n",
       "      <td>1005944.0</td>\n",
       "    </tr>\n",
       "    <tr>\n",
       "      <th>3</th>\n",
       "      <td>4</td>\n",
       "      <td>0.146413</td>\n",
       "      <td>0.071404</td>\n",
       "      <td>1039262.0</td>\n",
       "      <td>1035603.0</td>\n",
       "    </tr>\n",
       "    <tr>\n",
       "      <th>4</th>\n",
       "      <td>5</td>\n",
       "      <td>21.411083</td>\n",
       "      <td>9.484378</td>\n",
       "      <td>1070763.0</td>\n",
       "      <td>1070772.0</td>\n",
       "    </tr>\n",
       "  </tbody>\n",
       "</table>\n",
       "</div>"
      ],
      "text/plain": [
       "   Record  Manhattan Score  Euclidean Score  Euclidean Rank  Manhattan Rank\n",
       "0       1         8.132301         3.483334       1070451.0       1070507.0\n",
       "1       2        62.093518        29.578635       1070913.0       1070914.0\n",
       "2       3         0.095082         0.042777       1005689.0       1005944.0\n",
       "3       4         0.146413         0.071404       1039262.0       1035603.0\n",
       "4       5        21.411083         9.484378       1070763.0       1070772.0"
      ]
     },
     "execution_count": 24,
     "metadata": {},
     "output_type": "execute_result"
    }
   ],
   "source": [
    "fraud_score_AE.head()"
   ]
  },
  {
   "cell_type": "code",
   "execution_count": 25,
   "metadata": {
    "ExecuteTime": {
     "end_time": "2019-02-17T10:30:09.234921Z",
     "start_time": "2019-02-17T10:30:09.217937Z"
    }
   },
   "outputs": [
    {
     "data": {
      "text/html": [
       "<div>\n",
       "<style scoped>\n",
       "    .dataframe tbody tr th:only-of-type {\n",
       "        vertical-align: middle;\n",
       "    }\n",
       "\n",
       "    .dataframe tbody tr th {\n",
       "        vertical-align: top;\n",
       "    }\n",
       "\n",
       "    .dataframe thead th {\n",
       "        text-align: right;\n",
       "    }\n",
       "</style>\n",
       "<table border=\"1\" class=\"dataframe\">\n",
       "  <thead>\n",
       "    <tr style=\"text-align: right;\">\n",
       "      <th></th>\n",
       "      <th>Record</th>\n",
       "      <th>Manhattan Score</th>\n",
       "      <th>Euclidean Score</th>\n",
       "      <th>Euclidean Rank</th>\n",
       "      <th>Manhattan Rank</th>\n",
       "    </tr>\n",
       "  </thead>\n",
       "  <tbody>\n",
       "  </tbody>\n",
       "</table>\n",
       "</div>"
      ],
      "text/plain": [
       "Empty DataFrame\n",
       "Columns: [Record, Manhattan Score, Euclidean Score, Euclidean Rank, Manhattan Rank]\n",
       "Index: []"
      ]
     },
     "execution_count": 25,
     "metadata": {},
     "output_type": "execute_result"
    }
   ],
   "source": [
    "fraud_score_AE.loc[fraud_score_AE['Manhattan Rank'] == 1000]"
   ]
  },
  {
   "cell_type": "code",
   "execution_count": 26,
   "metadata": {
    "ExecuteTime": {
     "end_time": "2019-02-17T08:58:28.887851Z",
     "start_time": "2019-02-17T08:58:19.480739Z"
    }
   },
   "outputs": [],
   "source": [
    "fraud_score_AE.to_csv('fraud_ScoreAndRanks_AE.csv',index=False)"
   ]
  },
  {
   "cell_type": "code",
   "execution_count": 30,
   "metadata": {
    "ExecuteTime": {
     "end_time": "2019-02-17T00:24:13.195987Z",
     "start_time": "2019-02-17T00:24:12.334295Z"
    }
   },
   "outputs": [
    {
     "data": {
      "image/png": "[encoded data removed]",
      "text/plain": [
       "<Figure size 432x288 with 1 Axes>"
      ]
     },
     "metadata": {
      "needs_background": "light"
     },
     "output_type": "display_data"
    }
   ],
   "source": [
    "import seaborn as sns\n",
    "import matplotlib.pyplot as plt\n",
    "sns.distplot(fraud_score_AE['Manhattan Score'],bins=100, kde=True)\n",
    "#plt.title('Distribution of :'+col1)\n",
    "#plt.ylabel('Density of probability', fontsize=12)\n",
    "#plt.xlabel(col1, fontsize=12)\n",
    "#plt.savefig(\"imgs/\"+col1+\".png\")\n",
    "plt.show()\n"
   ]
  },
  {
   "cell_type": "code",
   "execution_count": 32,
   "metadata": {
    "ExecuteTime": {
     "end_time": "2019-02-17T06:47:43.959935Z",
     "start_time": "2019-02-17T06:47:24.282502Z"
    }
   },
   "outputs": [
    {
     "data": {
      "image/png": "[encoded data removed]",
      "text/plain": [
       "<Figure size 432x288 with 1 Axes>"
      ]
     },
     "metadata": {
      "needs_background": "light"
     },
     "output_type": "display_data"
    }
   ],
   "source": [
    "colName='Manhattan Score'\n",
    "xhigh =1.25\n",
    "#sns.plt.xlim(0,xhigh)\n",
    "temp = fraud_score_AE[fraud_score_AE[colName] <= xhigh]\n",
    "sns.distplot(temp[colName],bins=10000, kde=True)\n",
    "plt.title('Distribution of :'+colName)\n",
    "#plt.xscale('log')\n",
    "plt.ylabel('Density of probability', fontsize=12)\n",
    "plt.ylim((0.00, 25)) \n",
    "#plt.xlim((0.00, 25)) \n",
    "plt.xlabel(colName, fontsize=12)\n",
    "#plt.savefig(\"imgs/\"+colName+\".png\")\n",
    "plt.show()"
   ]
  },
  {
   "cell_type": "code",
   "execution_count": 33,
   "metadata": {
    "ExecuteTime": {
     "end_time": "2019-02-17T06:54:32.453364Z",
     "start_time": "2019-02-17T06:54:08.472464Z"
    },
    "scrolled": true
   },
   "outputs": [
    {
     "data": {
      "image/png": "[encoded data removed]",
      "text/plain": [
       "<Figure size 432x288 with 1 Axes>"
      ]
     },
     "metadata": {
      "needs_background": "light"
     },
     "output_type": "display_data"
    }
   ],
   "source": [
    "colName='Euclidean Score'\n",
    "xhigh =1.25\n",
    "#sns.plt.xlim(0,xhigh)\n",
    "#temp = fraud_score_AE\n",
    "temp = fraud_score_AE[fraud_score_AE[colName] <= xhigh]\n",
    "sns.distplot(temp[colName],bins=10000, kde=True)\n",
    "plt.title('Distribution of :'+colName)\n",
    "#plt.xscale('log')\n",
    "plt.ylabel('Density of probability', fontsize=12)\n",
    "plt.ylim((0.00, 25)) \n",
    "#plt.xlim((0.00, 25)) \n",
    "plt.xlabel(colName, fontsize=12)\n",
    "#plt.savefig(\"imgs/\"+colName+\".png\")\n",
    "plt.show()"
   ]
  },
  {
   "cell_type": "code",
   "execution_count": 34,
   "metadata": {
    "ExecuteTime": {
     "end_time": "2019-02-17T06:12:39.988529Z",
     "start_time": "2019-02-17T06:12:39.773073Z"
    }
   },
   "outputs": [],
   "source": [
    "bins=10\n",
    "colName='Euclidean Score'\n",
    "new_data = pd.qcut(fraud_score_AE[colName], bins, labels=list(range(bins)))"
   ]
  },
  {
   "cell_type": "code",
   "execution_count": 35,
   "metadata": {
    "ExecuteTime": {
     "end_time": "2019-02-17T06:13:32.519619Z",
     "start_time": "2019-02-17T06:13:32.498676Z"
    },
    "scrolled": true
   },
   "outputs": [
    {
     "data": {
      "text/plain": [
       "5    107104\n",
       "7    107102\n",
       "9    107100\n",
       "3    107100\n",
       "0    107100\n",
       "4    107099\n",
       "2    107099\n",
       "1    107099\n",
       "8    107096\n",
       "6    107095\n",
       "Name: Euclidean Score, dtype: int64"
      ]
     },
     "execution_count": 35,
     "metadata": {},
     "output_type": "execute_result"
    }
   ],
   "source": [
    "type(new_data)\n",
    "new_data.value_counts()"
   ]
  },
  {
   "cell_type": "code",
   "execution_count": 36,
   "metadata": {
    "ExecuteTime": {
     "end_time": "2019-02-17T06:16:08.320601Z",
     "start_time": "2019-02-17T06:16:08.304643Z"
    }
   },
   "outputs": [
    {
     "data": {
      "text/html": [
       "<div>\n",
       "<style scoped>\n",
       "    .dataframe tbody tr th:only-of-type {\n",
       "        vertical-align: middle;\n",
       "    }\n",
       "\n",
       "    .dataframe tbody tr th {\n",
       "        vertical-align: top;\n",
       "    }\n",
       "\n",
       "    .dataframe thead th {\n",
       "        text-align: right;\n",
       "    }\n",
       "</style>\n",
       "<table border=\"1\" class=\"dataframe\">\n",
       "  <thead>\n",
       "    <tr style=\"text-align: right;\">\n",
       "      <th></th>\n",
       "      <th>Euclidean Score</th>\n",
       "    </tr>\n",
       "  </thead>\n",
       "  <tbody>\n",
       "    <tr>\n",
       "      <th>0</th>\n",
       "      <td>9</td>\n",
       "    </tr>\n",
       "    <tr>\n",
       "      <th>1</th>\n",
       "      <td>9</td>\n",
       "    </tr>\n",
       "    <tr>\n",
       "      <th>2</th>\n",
       "      <td>9</td>\n",
       "    </tr>\n",
       "    <tr>\n",
       "      <th>3</th>\n",
       "      <td>9</td>\n",
       "    </tr>\n",
       "    <tr>\n",
       "      <th>4</th>\n",
       "      <td>9</td>\n",
       "    </tr>\n",
       "  </tbody>\n",
       "</table>\n",
       "</div>"
      ],
      "text/plain": [
       "  Euclidean Score\n",
       "0               9\n",
       "1               9\n",
       "2               9\n",
       "3               9\n",
       "4               9"
      ]
     },
     "execution_count": 36,
     "metadata": {},
     "output_type": "execute_result"
    }
   ],
   "source": [
    "pd.DataFrame(new_data).head()"
   ]
  },
  {
   "cell_type": "code",
   "execution_count": null,
   "metadata": {},
   "outputs": [],
   "source": []
  }
 ],
 "metadata": {
  "kernelspec": {
   "display_name": "Python 3",
   "language": "python",
   "name": "python3"
  },
  "language_info": {
   "codemirror_mode": {
    "name": "ipython",
    "version": 3
   },
   "file_extension": ".py",
   "mimetype": "text/x-python",
   "name": "python",
   "nbconvert_exporter": "python",
   "pygments_lexer": "ipython3",
   "version": "3.6.5"
  }
 },
 "nbformat": 4,
 "nbformat_minor": 2
}
